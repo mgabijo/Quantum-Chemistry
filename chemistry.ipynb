{
 "cells": [
  {
   "cell_type": "code",
   "execution_count": 3,
   "metadata": {},
   "outputs": [],
   "source": [
    "from openfermion.chem import MolecularData\n",
    "from openfermion.transforms import get_fermion_operator, jordan_wigner\n",
    "from openfermion.circuits import uccsd_singlet_paramsize\n",
    "from qiskit import Aer, execute"
   ]
  },
  {
   "attachments": {},
   "cell_type": "markdown",
   "metadata": {},
   "source": [
    "# Drug design"
   ]
  },
  {
   "cell_type": "code",
   "execution_count": 6,
   "metadata": {},
   "outputs": [
    {
     "ename": "FileNotFoundError",
     "evalue": "[Errno 2] Unable to open file (unable to open file: name = 'C:\\Users\\mgabi\\AppData\\Local\\Programs\\Python\\Python39\\Lib\\site-packages\\openfermion\\testing\\data/H2-C2-O3_sto-3g_singlet.hdf5', errno = 2, error message = 'No such file or directory', flags = 0, o_flags = 0)",
     "output_type": "error",
     "traceback": [
      "\u001b[1;31m---------------------------------------------------------------------------\u001b[0m",
      "\u001b[1;31mFileNotFoundError\u001b[0m                         Traceback (most recent call last)",
      "\u001b[1;32mc:\\Users\\mgabi\\Documents\\computacao_quantica\\Quantum chemistry\\chemistry.ipynb Cell 3\u001b[0m in \u001b[0;36m<module>\u001b[1;34m\u001b[0m\n\u001b[0;32m     <a href='vscode-notebook-cell:/c%3A/Users/mgabi/Documents/computacao_quantica/Quantum%20chemistry/chemistry.ipynb#W3sZmlsZQ%3D%3D?line=24'>25</a>\u001b[0m \u001b[39m# set the Molecule for Oxalic Acid\u001b[39;00m\n\u001b[0;32m     <a href='vscode-notebook-cell:/c%3A/Users/mgabi/Documents/computacao_quantica/Quantum%20chemistry/chemistry.ipynb#W3sZmlsZQ%3D%3D?line=25'>26</a>\u001b[0m molecule \u001b[39m=\u001b[39m MolecularData(geometry, basis, multiplicity, charge)\n\u001b[1;32m---> <a href='vscode-notebook-cell:/c%3A/Users/mgabi/Documents/computacao_quantica/Quantum%20chemistry/chemistry.ipynb#W3sZmlsZQ%3D%3D?line=26'>27</a>\u001b[0m molecule\u001b[39m.\u001b[39;49mload()\n\u001b[0;32m     <a href='vscode-notebook-cell:/c%3A/Users/mgabi/Documents/computacao_quantica/Quantum%20chemistry/chemistry.ipynb#W3sZmlsZQ%3D%3D?line=27'>28</a>\u001b[0m \u001b[39m# compute the molecular Hamiltonian\u001b[39;00m\n\u001b[0;32m     <a href='vscode-notebook-cell:/c%3A/Users/mgabi/Documents/computacao_quantica/Quantum%20chemistry/chemistry.ipynb#W3sZmlsZQ%3D%3D?line=28'>29</a>\u001b[0m fermion_hamiltonian \u001b[39m=\u001b[39m get_fermion_operator(molecule\u001b[39m.\u001b[39mget_molecular_hamiltonian())\n",
      "File \u001b[1;32mc:\\Users\\mgabi\\AppData\\Local\\Programs\\Python\\Python39\\lib\\site-packages\\openfermion\\chem\\molecular_data.py:722\u001b[0m, in \u001b[0;36mMolecularData.load\u001b[1;34m(self)\u001b[0m\n\u001b[0;32m    719\u001b[0m \u001b[39mdef\u001b[39;00m \u001b[39mload\u001b[39m(\u001b[39mself\u001b[39m):\n\u001b[0;32m    720\u001b[0m     geometry \u001b[39m=\u001b[39m []\n\u001b[1;32m--> 722\u001b[0m     \u001b[39mwith\u001b[39;00m h5py\u001b[39m.\u001b[39;49mFile(\u001b[39m\"\u001b[39;49m\u001b[39m{}\u001b[39;49;00m\u001b[39m.hdf5\u001b[39;49m\u001b[39m\"\u001b[39;49m\u001b[39m.\u001b[39;49mformat(\u001b[39mself\u001b[39;49m\u001b[39m.\u001b[39;49mfilename), \u001b[39m\"\u001b[39;49m\u001b[39mr\u001b[39;49m\u001b[39m\"\u001b[39;49m) \u001b[39mas\u001b[39;00m f:\n\u001b[0;32m    723\u001b[0m         \u001b[39m# Load geometry:\u001b[39;00m\n\u001b[0;32m    724\u001b[0m         data \u001b[39m=\u001b[39m f[\u001b[39m\"\u001b[39m\u001b[39mgeometry/atoms\u001b[39m\u001b[39m\"\u001b[39m]\n\u001b[0;32m    725\u001b[0m         \u001b[39mif\u001b[39;00m data\u001b[39m.\u001b[39mshape \u001b[39m!=\u001b[39m (()):\n",
      "File \u001b[1;32mc:\\Users\\mgabi\\AppData\\Local\\Programs\\Python\\Python39\\lib\\site-packages\\h5py\\_hl\\files.py:507\u001b[0m, in \u001b[0;36mFile.__init__\u001b[1;34m(self, name, mode, driver, libver, userblock_size, swmr, rdcc_nslots, rdcc_nbytes, rdcc_w0, track_order, fs_strategy, fs_persist, fs_threshold, fs_page_size, page_buf_size, min_meta_keep, min_raw_keep, locking, **kwds)\u001b[0m\n\u001b[0;32m    502\u001b[0m     fapl \u001b[39m=\u001b[39m make_fapl(driver, libver, rdcc_nslots, rdcc_nbytes, rdcc_w0,\n\u001b[0;32m    503\u001b[0m                      locking, page_buf_size, min_meta_keep, min_raw_keep, \u001b[39m*\u001b[39m\u001b[39m*\u001b[39mkwds)\n\u001b[0;32m    504\u001b[0m     fcpl \u001b[39m=\u001b[39m make_fcpl(track_order\u001b[39m=\u001b[39mtrack_order, fs_strategy\u001b[39m=\u001b[39mfs_strategy,\n\u001b[0;32m    505\u001b[0m                      fs_persist\u001b[39m=\u001b[39mfs_persist, fs_threshold\u001b[39m=\u001b[39mfs_threshold,\n\u001b[0;32m    506\u001b[0m                      fs_page_size\u001b[39m=\u001b[39mfs_page_size)\n\u001b[1;32m--> 507\u001b[0m     fid \u001b[39m=\u001b[39m make_fid(name, mode, userblock_size, fapl, fcpl, swmr\u001b[39m=\u001b[39;49mswmr)\n\u001b[0;32m    509\u001b[0m \u001b[39mif\u001b[39;00m \u001b[39misinstance\u001b[39m(libver, \u001b[39mtuple\u001b[39m):\n\u001b[0;32m    510\u001b[0m     \u001b[39mself\u001b[39m\u001b[39m.\u001b[39m_libver \u001b[39m=\u001b[39m libver\n",
      "File \u001b[1;32mc:\\Users\\mgabi\\AppData\\Local\\Programs\\Python\\Python39\\lib\\site-packages\\h5py\\_hl\\files.py:220\u001b[0m, in \u001b[0;36mmake_fid\u001b[1;34m(name, mode, userblock_size, fapl, fcpl, swmr)\u001b[0m\n\u001b[0;32m    218\u001b[0m     \u001b[39mif\u001b[39;00m swmr \u001b[39mand\u001b[39;00m swmr_support:\n\u001b[0;32m    219\u001b[0m         flags \u001b[39m|\u001b[39m\u001b[39m=\u001b[39m h5f\u001b[39m.\u001b[39mACC_SWMR_READ\n\u001b[1;32m--> 220\u001b[0m     fid \u001b[39m=\u001b[39m h5f\u001b[39m.\u001b[39;49mopen(name, flags, fapl\u001b[39m=\u001b[39;49mfapl)\n\u001b[0;32m    221\u001b[0m \u001b[39melif\u001b[39;00m mode \u001b[39m==\u001b[39m \u001b[39m'\u001b[39m\u001b[39mr+\u001b[39m\u001b[39m'\u001b[39m:\n\u001b[0;32m    222\u001b[0m     fid \u001b[39m=\u001b[39m h5f\u001b[39m.\u001b[39mopen(name, h5f\u001b[39m.\u001b[39mACC_RDWR, fapl\u001b[39m=\u001b[39mfapl)\n",
      "File \u001b[1;32mh5py\\_objects.pyx:54\u001b[0m, in \u001b[0;36mh5py._objects.with_phil.wrapper\u001b[1;34m()\u001b[0m\n",
      "File \u001b[1;32mh5py\\_objects.pyx:55\u001b[0m, in \u001b[0;36mh5py._objects.with_phil.wrapper\u001b[1;34m()\u001b[0m\n",
      "File \u001b[1;32mh5py\\h5f.pyx:106\u001b[0m, in \u001b[0;36mh5py.h5f.open\u001b[1;34m()\u001b[0m\n",
      "\u001b[1;31mFileNotFoundError\u001b[0m: [Errno 2] Unable to open file (unable to open file: name = 'C:\\Users\\mgabi\\AppData\\Local\\Programs\\Python\\Python39\\Lib\\site-packages\\openfermion\\testing\\data/H2-C2-O3_sto-3g_singlet.hdf5', errno = 2, error message = 'No such file or directory', flags = 0, o_flags = 0)"
     ]
    }
   ],
   "source": [
    "# oxalic acid geometry\n",
    "#       O\n",
    "#       |\n",
    "#       C - C - O - H\n",
    "#       |   \n",
    "#       O - H\n",
    "# Bond lengths in Angstroms\n",
    "# C-O bond length is 1.43 Angstroms \n",
    "# C-C bond length is 1.45 Angstroms\n",
    "# O-H bond length is 0.96 Angstroms\n",
    "\n",
    "# set the Molecule for Oxalic Acid\n",
    "geometry = [('C', (0., 0., 0.)),\n",
    "            ('O', (0., 0., 1.43)),\n",
    "            ('O', (0., 0., -1.43)),\n",
    "            ('C', (1.45, 0., 0.)),\n",
    "            ('O', (2.48, 0., 0.)),\n",
    "            ('H', (3.44, 0., 0.)),\n",
    "            ('H', (0., 0.96, -1.43))]\n",
    "\n",
    "basis = 'sto-3g'\n",
    "multiplicity = 1\n",
    "charge = 0\n",
    "\n",
    "# set the Molecule for Oxalic Acid\n",
    "molecule = MolecularData(geometry, basis, multiplicity, charge)\n",
    "molecule.load()\n",
    "# compute the molecular Hamiltonian\n",
    "fermion_hamiltonian = get_fermion_operator(molecule.get_molecular_hamiltonian())\n",
    "qubit_hamiltonian = jordan_wigner(fermion_hamiltonian)\n",
    "\n",
    "# Use the UCCSD ansatz\n",
    "n_elecs = molecule.n_electrons\n",
    "n_orbitals = molecule.n_orbitals\n",
    "initial_state = uccsd_singlet_paramsize(n_orbitals, n_elecs)\n",
    "\n",
    "# Use the Qiskit Aer simulator\n",
    "backend = Aer.get_backend('statevector_simulator')\n",
    "result = execute(initial_state, backend).result()\n",
    "initial_amplitudes = result.get_statevector()\n",
    "\n",
    "result = quantum_molecular_dynamics(qubit_hamiltonian, initial_amplitudes)"
   ]
  },
  {
   "cell_type": "code",
   "execution_count": null,
   "metadata": {},
   "outputs": [],
   "source": []
  }
 ],
 "metadata": {
  "kernelspec": {
   "display_name": "Python 3",
   "language": "python",
   "name": "python3"
  },
  "language_info": {
   "codemirror_mode": {
    "name": "ipython",
    "version": 3
   },
   "file_extension": ".py",
   "mimetype": "text/x-python",
   "name": "python",
   "nbconvert_exporter": "python",
   "pygments_lexer": "ipython3",
   "version": "3.9.10"
  },
  "orig_nbformat": 4,
  "vscode": {
   "interpreter": {
    "hash": "aa7e84d267ee39daf1a8dee1b7af7d96e04fbc2122adc5c4b1fc6484a19859d1"
   }
  }
 },
 "nbformat": 4,
 "nbformat_minor": 2
}
