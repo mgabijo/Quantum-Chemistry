{
 "cells": [
  {
   "cell_type": "code",
   "execution_count": 6,
   "metadata": {},
   "outputs": [],
   "source": [
    "from qiskit.algorithms import VQE\n",
    "from qiskit_nature.algorithms import (GroundStateEigensolver,\n",
    "                                      NumPyMinimumEigensolverFactory)\n",
    "from qiskit_nature.drivers import Molecule\n",
    "from qiskit_nature.drivers.second_quantization import (\n",
    "    ElectronicStructureMoleculeDriver, ElectronicStructureDriverType)\n",
    "from qiskit_nature.transformers.second_quantization.electronic import FreezeCoreTransformer\n",
    "from qiskit_nature.problems.second_quantization import ElectronicStructureProblem\n",
    "from qiskit_nature.converters.second_quantization import QubitConverter\n",
    "from qiskit_nature.mappers.second_quantization import ParityMapper\n",
    "# pylint: enable=line-too-long\n",
    "\n",
    "import matplotlib.pyplot as plt\n",
    "import numpy as np\n",
    "from qiskit_nature.circuit.library import UCCSD, HartreeFock\n",
    "from qiskit.circuit.library import EfficientSU2\n",
    "from qiskit.algorithms.optimizers import COBYLA, SPSA, SLSQP\n",
    "from qiskit.opflow import TwoQubitReduction\n",
    "from qiskit import BasicAer, Aer\n",
    "from qiskit.utils import QuantumInstance\n",
    "from qiskit.utils.mitigation import CompleteMeasFitter\n",
    "from qiskit.providers.aer.noise import NoiseModel"
   ]
  },
  {
   "attachments": {},
   "cell_type": "markdown",
   "metadata": {},
   "source": [
    "# Drug design"
   ]
  },
  {
   "cell_type": "code",
   "execution_count": 7,
   "metadata": {},
   "outputs": [
    {
     "ename": "MissingOptionalLibraryError",
     "evalue": "\"The 'pyscf' library is required to use 'PySCFDriver'.  See https://pyscf.org/install.html.\"",
     "output_type": "error",
     "traceback": [
      "\u001b[1;31m---------------------------------------------------------------------------\u001b[0m",
      "\u001b[1;31mMissingOptionalLibraryError\u001b[0m               Traceback (most recent call last)",
      "\u001b[1;32mc:\\Users\\mgabi\\Documents\\computacao_quantica\\Quantum chemistry\\chemistry.ipynb Cell 3\u001b[0m in \u001b[0;36m<module>\u001b[1;34m\u001b[0m\n\u001b[0;32m      <a href='vscode-notebook-cell:/c%3A/Users/mgabi/Documents/computacao_quantica/Quantum%20chemistry/chemistry.ipynb#W6sZmlsZQ%3D%3D?line=7'>8</a>\u001b[0m \u001b[39m# Driver\u001b[39;00m\n\u001b[0;32m      <a href='vscode-notebook-cell:/c%3A/Users/mgabi/Documents/computacao_quantica/Quantum%20chemistry/chemistry.ipynb#W6sZmlsZQ%3D%3D?line=8'>9</a>\u001b[0m driver \u001b[39m=\u001b[39m ElectronicStructureMoleculeDriver(molecule, driver_type\u001b[39m=\u001b[39mElectronicStructureDriverType\u001b[39m.\u001b[39mPYSCF)\n\u001b[1;32m---> <a href='vscode-notebook-cell:/c%3A/Users/mgabi/Documents/computacao_quantica/Quantum%20chemistry/chemistry.ipynb#W6sZmlsZQ%3D%3D?line=9'>10</a>\u001b[0m properties \u001b[39m=\u001b[39m driver\u001b[39m.\u001b[39;49mrun()\n\u001b[0;32m     <a href='vscode-notebook-cell:/c%3A/Users/mgabi/Documents/computacao_quantica/Quantum%20chemistry/chemistry.ipynb#W6sZmlsZQ%3D%3D?line=10'>11</a>\u001b[0m num_particles \u001b[39m=\u001b[39m (properties\n\u001b[0;32m     <a href='vscode-notebook-cell:/c%3A/Users/mgabi/Documents/computacao_quantica/Quantum%20chemistry/chemistry.ipynb#W6sZmlsZQ%3D%3D?line=11'>12</a>\u001b[0m                     \u001b[39m.\u001b[39mget_property(\u001b[39m\"\u001b[39m\u001b[39mParticleNumber\u001b[39m\u001b[39m\"\u001b[39m)\n\u001b[0;32m     <a href='vscode-notebook-cell:/c%3A/Users/mgabi/Documents/computacao_quantica/Quantum%20chemistry/chemistry.ipynb#W6sZmlsZQ%3D%3D?line=12'>13</a>\u001b[0m                     \u001b[39m.\u001b[39mnum_particles)\n\u001b[0;32m     <a href='vscode-notebook-cell:/c%3A/Users/mgabi/Documents/computacao_quantica/Quantum%20chemistry/chemistry.ipynb#W6sZmlsZQ%3D%3D?line=13'>14</a>\u001b[0m num_spin_orbitals \u001b[39m=\u001b[39m \u001b[39mint\u001b[39m(properties\n\u001b[0;32m     <a href='vscode-notebook-cell:/c%3A/Users/mgabi/Documents/computacao_quantica/Quantum%20chemistry/chemistry.ipynb#W6sZmlsZQ%3D%3D?line=14'>15</a>\u001b[0m                         \u001b[39m.\u001b[39mget_property(\u001b[39m\"\u001b[39m\u001b[39mParticleNumber\u001b[39m\u001b[39m\"\u001b[39m)\n\u001b[0;32m     <a href='vscode-notebook-cell:/c%3A/Users/mgabi/Documents/computacao_quantica/Quantum%20chemistry/chemistry.ipynb#W6sZmlsZQ%3D%3D?line=15'>16</a>\u001b[0m                         \u001b[39m.\u001b[39mnum_spin_orbitals)\n",
      "File \u001b[1;32mc:\\Users\\mgabi\\AppData\\Local\\Programs\\Python\\Python39\\lib\\site-packages\\qiskit_nature\\drivers\\second_quantization\\electronic_structure_molecule_driver.py:174\u001b[0m, in \u001b[0;36mElectronicStructureMoleculeDriver.run\u001b[1;34m(self)\u001b[0m\n\u001b[0;32m    173\u001b[0m \u001b[39mdef\u001b[39;00m \u001b[39mrun\u001b[39m(\u001b[39mself\u001b[39m) \u001b[39m-\u001b[39m\u001b[39m>\u001b[39m ElectronicStructureDriverResult:\n\u001b[1;32m--> 174\u001b[0m     driver_class \u001b[39m=\u001b[39m ElectronicStructureDriverType\u001b[39m.\u001b[39;49mdriver_class_from_type(\n\u001b[0;32m    175\u001b[0m         \u001b[39mself\u001b[39;49m\u001b[39m.\u001b[39;49mdriver_type, \u001b[39mself\u001b[39;49m\u001b[39m.\u001b[39;49mmethod\n\u001b[0;32m    176\u001b[0m     )\n\u001b[0;32m    177\u001b[0m     driver \u001b[39m=\u001b[39m driver_class\u001b[39m.\u001b[39mfrom_molecule(  \u001b[39m# type: ignore\u001b[39;00m\n\u001b[0;32m    178\u001b[0m         \u001b[39mself\u001b[39m\u001b[39m.\u001b[39mmolecule, \u001b[39mself\u001b[39m\u001b[39m.\u001b[39mbasis, \u001b[39mself\u001b[39m\u001b[39m.\u001b[39mmethod, \u001b[39mself\u001b[39m\u001b[39m.\u001b[39mdriver_kwargs\n\u001b[0;32m    179\u001b[0m     )\n\u001b[0;32m    180\u001b[0m     \u001b[39mreturn\u001b[39;00m driver\u001b[39m.\u001b[39mrun()\n",
      "File \u001b[1;32mc:\\Users\\mgabi\\AppData\\Local\\Programs\\Python\\Python39\\lib\\site-packages\\qiskit_nature\\drivers\\second_quantization\\electronic_structure_molecule_driver.py:85\u001b[0m, in \u001b[0;36mElectronicStructureDriverType.driver_class_from_type\u001b[1;34m(driver_type, method)\u001b[0m\n\u001b[0;32m     81\u001b[0m     \u001b[39mraise\u001b[39;00m MissingOptionalLibraryError(\n\u001b[0;32m     82\u001b[0m         libname\u001b[39m=\u001b[39mdriver_type, name\u001b[39m=\u001b[39m\u001b[39m\"\u001b[39m\u001b[39mElectronicStructureDriverType\u001b[39m\u001b[39m\"\u001b[39m\n\u001b[0;32m     83\u001b[0m     )\n\u001b[0;32m     84\u001b[0m \u001b[39m# instantiating the object will check if the driver is installed\u001b[39;00m\n\u001b[1;32m---> 85\u001b[0m _ \u001b[39m=\u001b[39m class_obj()\n\u001b[0;32m     86\u001b[0m class_obj\u001b[39m.\u001b[39mcheck_method_supported(method)\n\u001b[0;32m     87\u001b[0m driver_class \u001b[39m=\u001b[39m class_obj\n",
      "File \u001b[1;32mc:\\Users\\mgabi\\AppData\\Local\\Programs\\Python\\Python39\\lib\\site-packages\\qiskit\\utils\\classtools.py:116\u001b[0m, in \u001b[0;36m_WrappedMethod.__get__.<locals>.out\u001b[1;34m(*args, **kwargs)\u001b[0m\n\u001b[0;32m    113\u001b[0m \u001b[39m@functools\u001b[39m\u001b[39m.\u001b[39mwraps(method)\n\u001b[0;32m    114\u001b[0m \u001b[39mdef\u001b[39;00m \u001b[39mout\u001b[39m(\u001b[39m*\u001b[39margs, \u001b[39m*\u001b[39m\u001b[39m*\u001b[39mkwargs):\n\u001b[0;32m    115\u001b[0m     \u001b[39mfor\u001b[39;00m callback \u001b[39min\u001b[39;00m \u001b[39mself\u001b[39m\u001b[39m.\u001b[39m_before:\n\u001b[1;32m--> 116\u001b[0m         callback\u001b[39m.\u001b[39m\u001b[39m__get__\u001b[39m(obj, objtype)(\u001b[39m*\u001b[39margs, \u001b[39m*\u001b[39m\u001b[39m*\u001b[39mkwargs)\n\u001b[0;32m    117\u001b[0m     retval \u001b[39m=\u001b[39m method(\u001b[39m*\u001b[39margs, \u001b[39m*\u001b[39m\u001b[39m*\u001b[39mkwargs)\n\u001b[0;32m    118\u001b[0m     \u001b[39mfor\u001b[39;00m callback \u001b[39min\u001b[39;00m \u001b[39mself\u001b[39m\u001b[39m.\u001b[39m_after:\n",
      "File \u001b[1;32mc:\\Users\\mgabi\\AppData\\Local\\Programs\\Python\\Python39\\lib\\site-packages\\qiskit\\utils\\lazy_tester.py:39\u001b[0m, in \u001b[0;36m_RequireNow.__call__\u001b[1;34m(self, *_args, **_kwargs)\u001b[0m\n\u001b[0;32m     38\u001b[0m \u001b[39mdef\u001b[39;00m \u001b[39m__call__\u001b[39m(\u001b[39mself\u001b[39m, \u001b[39m*\u001b[39m_args, \u001b[39m*\u001b[39m\u001b[39m*\u001b[39m_kwargs):\n\u001b[1;32m---> 39\u001b[0m     \u001b[39mself\u001b[39;49m\u001b[39m.\u001b[39;49m_tester\u001b[39m.\u001b[39;49mrequire_now(\u001b[39mself\u001b[39;49m\u001b[39m.\u001b[39;49m_feature)\n",
      "File \u001b[1;32mc:\\Users\\mgabi\\AppData\\Local\\Programs\\Python\\Python39\\lib\\site-packages\\qiskit\\utils\\lazy_tester.py:223\u001b[0m, in \u001b[0;36mLazyDependencyManager.require_now\u001b[1;34m(self, feature)\u001b[0m\n\u001b[0;32m    221\u001b[0m \u001b[39mif\u001b[39;00m \u001b[39mself\u001b[39m:\n\u001b[0;32m    222\u001b[0m     \u001b[39mreturn\u001b[39;00m\n\u001b[1;32m--> 223\u001b[0m \u001b[39mraise\u001b[39;00m MissingOptionalLibraryError(\n\u001b[0;32m    224\u001b[0m     libname\u001b[39m=\u001b[39m\u001b[39mself\u001b[39m\u001b[39m.\u001b[39m_name, name\u001b[39m=\u001b[39mfeature, pip_install\u001b[39m=\u001b[39m\u001b[39mself\u001b[39m\u001b[39m.\u001b[39m_install, msg\u001b[39m=\u001b[39m\u001b[39mself\u001b[39m\u001b[39m.\u001b[39m_msg\n\u001b[0;32m    225\u001b[0m )\n",
      "\u001b[1;31mMissingOptionalLibraryError\u001b[0m: \"The 'pyscf' library is required to use 'PySCFDriver'.  See https://pyscf.org/install.html.\""
     ]
    }
   ],
   "source": [
    "# Case study: H2 molecule\n",
    "geometry = [('H', (0., 0., 0.)), ('H', (0., 0., 0.735))]\n",
    "basis = 'sto3g'\n",
    "multiplicity = 1\n",
    "charge = 0\n",
    "molecule = Molecule(geometry, basis, multiplicity, charge)\n",
    "\n",
    "# Driver\n",
    "driver = ElectronicStructureMoleculeDriver(molecule, driver_type=ElectronicStructureDriverType.PYSCF)\n",
    "properties = driver.run()\n",
    "num_particles = (properties\n",
    "                    .get_property(\"ParticleNumber\")\n",
    "                    .num_particles)\n",
    "num_spin_orbitals = int(properties\n",
    "                        .get_property(\"ParticleNumber\")\n",
    "                        .num_spin_orbitals)\n",
    "\n",
    "# Define Problem, Use freeze core approximation, remove orbitals.\n",
    "problem = ElectronicStructureProblem(\n",
    "    driver,\n",
    "    [FreezeCoreTransformer(freeze_core=True,\n",
    "                            remove_orbitals=[-3,-2])])\n",
    "\n",
    "second_q_ops = problem.second_q_ops()  # Get 2nd Quant OP\n",
    "num_spin_orbitals = problem.num_spin_orbitals\n",
    "num_particles = problem.num_particles\n",
    "\n",
    "mapper = ParityMapper()  # Set Mapper\n",
    "hamiltonian = second_q_ops[0]  # Set Hamiltonian\n",
    "# Do two qubit reduction\n",
    "converter = QubitConverter(mapper,two_qubit_reduction=True)\n",
    "reducer = TwoQubitReduction(num_particles)\n",
    "qubit_op = converter.convert(hamiltonian)\n",
    "qubit_op = reducer.convert(qubit_op)\n",
    "\n",
    "def exact_solver(problem, converter):\n",
    "    solver = NumPyMinimumEigensolverFactory()\n",
    "    calc = GroundStateEigensolver(converter, solver)\n",
    "    result = calc.solve(problem)\n",
    "    return result"
   ]
  },
  {
   "cell_type": "code",
   "execution_count": 2,
   "metadata": {},
   "outputs": [],
   "source": [
    "# oxalic acid geometry\n",
    "#       O\n",
    "#       |\n",
    "#       C - C - O - H\n",
    "#       |   \n",
    "#       O - H\n",
    "# Bond lengths in Angstroms\n",
    "# C-O bond length is 1.43 Angstroms \n",
    "# C-C bond length is 1.45 Angstroms\n",
    "# O-H bond length is 0.96 Angstroms\n",
    "\n",
    "# set the Molecule for Oxalic Acid\n",
    "geometry = [('C', (0., 0., 0.)),\n",
    "            ('O', (0., 0., 1.43)),\n",
    "            ('O', (0., 0., -1.43)),\n",
    "            ('C', (1.45, 0., 0.)),\n",
    "            ('O', (2.48, 0., 0.)),\n",
    "            ('H', (3.44, 0., 0.)),\n",
    "            ('H', (0., 0.96, -1.43))]\n",
    "\n",
    "basis = 'sto-3g'\n",
    "multiplicity = 1\n",
    "charge = 0\n",
    "\n",
    "# set the Molecule for Oxalic Acid\n",
    "molecule = Molecule(geometry, basis, multiplicity, charge)\n"
   ]
  },
  {
   "cell_type": "code",
   "execution_count": 3,
   "metadata": {},
   "outputs": [
    {
     "data": {
      "text/plain": [
       "<qiskit_nature.drivers.molecule.Molecule at 0x1bdcbd2d400>"
      ]
     },
     "execution_count": 3,
     "metadata": {},
     "output_type": "execute_result"
    }
   ],
   "source": [
    "molecule"
   ]
  }
 ],
 "metadata": {
  "kernelspec": {
   "display_name": "Python 3",
   "language": "python",
   "name": "python3"
  },
  "language_info": {
   "codemirror_mode": {
    "name": "ipython",
    "version": 3
   },
   "file_extension": ".py",
   "mimetype": "text/x-python",
   "name": "python",
   "nbconvert_exporter": "python",
   "pygments_lexer": "ipython3",
   "version": "3.9.10 (tags/v3.9.10:f2f3f53, Jan 17 2022, 15:14:21) [MSC v.1929 64 bit (AMD64)]"
  },
  "orig_nbformat": 4,
  "vscode": {
   "interpreter": {
    "hash": "aa7e84d267ee39daf1a8dee1b7af7d96e04fbc2122adc5c4b1fc6484a19859d1"
   }
  }
 },
 "nbformat": 4,
 "nbformat_minor": 2
}
