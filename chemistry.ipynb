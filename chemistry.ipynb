{
 "cells": [
  {
   "cell_type": "code",
   "execution_count": 1,
   "metadata": {},
   "outputs": [],
   "source": [
    "# pylint: disable=line-too-long\n",
    "from qiskit.algorithms import VQE\n",
    "from qiskit_nature.algorithms import (GroundStateEigensolver,\n",
    "                                      NumPyMinimumEigensolverFactory)\n",
    "from qiskit_nature.drivers import Molecule, UnitsType\n",
    "from qiskit_nature.drivers.second_quantization import PySCFDriver, ElectronicStructureMoleculeDriver, ElectronicStructureDriverType\n",
    "from qiskit_nature.transformers.second_quantization.electronic import FreezeCoreTransformer\n",
    "from qiskit_nature.problems.second_quantization import ElectronicStructureProblem\n",
    "from qiskit_nature.converters.second_quantization import QubitConverter\n",
    "from qiskit_nature.mappers.second_quantization import ParityMapper\n",
    "# pylint: enable=line-too-long\n",
    "\n",
    "import matplotlib.pyplot as plt\n",
    "import numpy as np\n",
    "from qiskit_nature.circuit.library import UCCSD, HartreeFock\n",
    "from qiskit.circuit.library import EfficientSU2\n",
    "from qiskit.algorithms.optimizers import COBYLA, SPSA, SLSQP\n",
    "from qiskit.opflow import TwoQubitReduction\n",
    "from qiskit import BasicAer, Aer\n",
    "from qiskit.utils import QuantumInstance\n",
    "from qiskit.utils.mitigation import CompleteMeasFitter\n",
    "from qiskit.providers.aer.noise import NoiseModel"
   ]
  },
  {
   "cell_type": "code",
   "execution_count": 2,
   "metadata": {},
   "outputs": [],
   "source": [
    "\n",
    "def get_qubit_op(dist):\n",
    "    # Define Molecule\n",
    "    molecule = Molecule(\n",
    "        # Coordinates in Angstrom\n",
    "        geometry=[\n",
    "            [\"Li\", [0.0, 0.0, 0.0]],\n",
    "            [\"H\", [dist, 0.0, 0.0]]\n",
    "        ],\n",
    "        multiplicity=1,  # = 2*spin + 1\n",
    "        charge=0,\n",
    "    )\n",
    "\n",
    "    driver = ElectronicStructureMoleculeDriver(\n",
    "        molecule=molecule,\n",
    "        basis=\"sto3g\",\n",
    "        driver_type=ElectronicStructureDriverType.PYSCF)\n",
    "\n",
    "    # Get properties\n",
    "    properties = driver.run()\n",
    "    num_particles = (properties\n",
    "                        .get_property(\"ParticleNumber\")\n",
    "                        .num_particles)\n",
    "    num_spin_orbitals = int(properties\n",
    "                            .get_property(\"ParticleNumber\")\n",
    "                            .num_spin_orbitals)\n",
    "\n",
    "    # Define Problem, Use freeze core approximation, remove orbitals.\n",
    "    problem = ElectronicStructureProblem(\n",
    "        driver,\n",
    "        [FreezeCoreTransformer(freeze_core=True,\n",
    "                               remove_orbitals=[-3,-2])])\n",
    "\n",
    "    second_q_ops = problem.second_q_ops()  # Get 2nd Quant OP\n",
    "    num_spin_orbitals = problem.num_spin_orbitals\n",
    "    num_particles = problem.num_particles\n",
    "    #print(second_q_ops)\n",
    "    # Get Hamiltonian\n",
    "    mapper = ParityMapper()  # Set Mapper\n",
    "    hamiltonian = second_q_ops[0]  # Set Hamiltonian\n",
    "    # Do two qubit reduction\n",
    "    converter = QubitConverter(mapper,two_qubit_reduction=True)\n",
    "    reducer = TwoQubitReduction(num_particles)\n",
    "    qubit_op = converter.convert(hamiltonian)\n",
    "    qubit_op = reducer.convert(qubit_op)\n",
    "\n",
    "    return qubit_op, num_particles, num_spin_orbitals, problem, converter"
   ]
  },
  {
   "cell_type": "code",
   "execution_count": 3,
   "metadata": {},
   "outputs": [
    {
     "ename": "KeyboardInterrupt",
     "evalue": "",
     "output_type": "error",
     "traceback": [
      "\u001b[0;31m---------------------------------------------------------------------------\u001b[0m",
      "\u001b[0;31mKeyboardInterrupt\u001b[0m                         Traceback (most recent call last)",
      "\u001b[1;32m/home/mgabijo/Documents/quantum_chemistry/Quantum-Chemistry/chemistry.ipynb Cell 3\u001b[0m in \u001b[0;36m<module>\u001b[0;34m\u001b[0m\n\u001b[1;32m     <a href='vscode-notebook-cell:/home/mgabijo/Documents/quantum_chemistry/Quantum-Chemistry/chemistry.ipynb#W2sZmlsZQ%3D%3D?line=19'>20</a>\u001b[0m var_form \u001b[39m=\u001b[39m UCCSD(converter,\n\u001b[1;32m     <a href='vscode-notebook-cell:/home/mgabijo/Documents/quantum_chemistry/Quantum-Chemistry/chemistry.ipynb#W2sZmlsZQ%3D%3D?line=20'>21</a>\u001b[0m                  num_particles,\n\u001b[1;32m     <a href='vscode-notebook-cell:/home/mgabijo/Documents/quantum_chemistry/Quantum-Chemistry/chemistry.ipynb#W2sZmlsZQ%3D%3D?line=21'>22</a>\u001b[0m                  num_spin_orbitals,\n\u001b[1;32m     <a href='vscode-notebook-cell:/home/mgabijo/Documents/quantum_chemistry/Quantum-Chemistry/chemistry.ipynb#W2sZmlsZQ%3D%3D?line=22'>23</a>\u001b[0m                  initial_state\u001b[39m=\u001b[39minit_state)\n\u001b[1;32m     <a href='vscode-notebook-cell:/home/mgabijo/Documents/quantum_chemistry/Quantum-Chemistry/chemistry.ipynb#W2sZmlsZQ%3D%3D?line=23'>24</a>\u001b[0m vqe \u001b[39m=\u001b[39m VQE(var_form, optimizer, quantum_instance\u001b[39m=\u001b[39mbackend)\n\u001b[0;32m---> <a href='vscode-notebook-cell:/home/mgabijo/Documents/quantum_chemistry/Quantum-Chemistry/chemistry.ipynb#W2sZmlsZQ%3D%3D?line=24'>25</a>\u001b[0m vqe_calc \u001b[39m=\u001b[39m vqe\u001b[39m.\u001b[39;49mcompute_minimum_eigenvalue(qubit_op)\n\u001b[1;32m     <a href='vscode-notebook-cell:/home/mgabijo/Documents/quantum_chemistry/Quantum-Chemistry/chemistry.ipynb#W2sZmlsZQ%3D%3D?line=25'>26</a>\u001b[0m vqe_result \u001b[39m=\u001b[39m problem\u001b[39m.\u001b[39minterpret(vqe_calc)\u001b[39m.\u001b[39mtotal_energies[\u001b[39m0\u001b[39m]\u001b[39m.\u001b[39mreal\n\u001b[1;32m     <a href='vscode-notebook-cell:/home/mgabijo/Documents/quantum_chemistry/Quantum-Chemistry/chemistry.ipynb#W2sZmlsZQ%3D%3D?line=26'>27</a>\u001b[0m vqe_energies\u001b[39m.\u001b[39mappend(vqe_result)\n",
      "File \u001b[0;32m~/.local/lib/python3.8/site-packages/qiskit/algorithms/minimum_eigen_solvers/vqe.py:530\u001b[0m, in \u001b[0;36mVQE.compute_minimum_eigenvalue\u001b[0;34m(self, operator, aux_operators)\u001b[0m\n\u001b[1;32m    526\u001b[0m     opt_result \u001b[39m=\u001b[39m \u001b[39mself\u001b[39m\u001b[39m.\u001b[39moptimizer(  \u001b[39m# pylint: disable=not-callable\u001b[39m\n\u001b[1;32m    527\u001b[0m         fun\u001b[39m=\u001b[39menergy_evaluation, x0\u001b[39m=\u001b[39minitial_point, jac\u001b[39m=\u001b[39mgradient, bounds\u001b[39m=\u001b[39mbounds\n\u001b[1;32m    528\u001b[0m     )\n\u001b[1;32m    529\u001b[0m \u001b[39melse\u001b[39;00m:\n\u001b[0;32m--> 530\u001b[0m     opt_result \u001b[39m=\u001b[39m \u001b[39mself\u001b[39;49m\u001b[39m.\u001b[39;49moptimizer\u001b[39m.\u001b[39;49mminimize(\n\u001b[1;32m    531\u001b[0m         fun\u001b[39m=\u001b[39;49menergy_evaluation, x0\u001b[39m=\u001b[39;49minitial_point, jac\u001b[39m=\u001b[39;49mgradient, bounds\u001b[39m=\u001b[39;49mbounds\n\u001b[1;32m    532\u001b[0m     )\n\u001b[1;32m    534\u001b[0m eval_time \u001b[39m=\u001b[39m time() \u001b[39m-\u001b[39m start_time\n\u001b[1;32m    536\u001b[0m result \u001b[39m=\u001b[39m VQEResult()\n",
      "File \u001b[0;32m~/.local/lib/python3.8/site-packages/qiskit/algorithms/optimizers/scipy_optimizer.py:148\u001b[0m, in \u001b[0;36mSciPyOptimizer.minimize\u001b[0;34m(self, fun, x0, jac, bounds)\u001b[0m\n\u001b[1;32m    145\u001b[0m     swapped_deprecated_args \u001b[39m=\u001b[39m \u001b[39mTrue\u001b[39;00m\n\u001b[1;32m    146\u001b[0m     \u001b[39mself\u001b[39m\u001b[39m.\u001b[39m_options[\u001b[39m\"\u001b[39m\u001b[39mmaxfun\u001b[39m\u001b[39m\"\u001b[39m] \u001b[39m=\u001b[39m \u001b[39mself\u001b[39m\u001b[39m.\u001b[39m_options\u001b[39m.\u001b[39mpop(\u001b[39m\"\u001b[39m\u001b[39mmaxiter\u001b[39m\u001b[39m\"\u001b[39m)\n\u001b[0;32m--> 148\u001b[0m raw_result \u001b[39m=\u001b[39m minimize(\n\u001b[1;32m    149\u001b[0m     fun\u001b[39m=\u001b[39;49mfun,\n\u001b[1;32m    150\u001b[0m     x0\u001b[39m=\u001b[39;49mx0,\n\u001b[1;32m    151\u001b[0m     method\u001b[39m=\u001b[39;49m\u001b[39mself\u001b[39;49m\u001b[39m.\u001b[39;49m_method,\n\u001b[1;32m    152\u001b[0m     jac\u001b[39m=\u001b[39;49mjac,\n\u001b[1;32m    153\u001b[0m     bounds\u001b[39m=\u001b[39;49mbounds,\n\u001b[1;32m    154\u001b[0m     options\u001b[39m=\u001b[39;49m\u001b[39mself\u001b[39;49m\u001b[39m.\u001b[39;49m_options,\n\u001b[1;32m    155\u001b[0m     \u001b[39m*\u001b[39;49m\u001b[39m*\u001b[39;49m\u001b[39mself\u001b[39;49m\u001b[39m.\u001b[39;49m_kwargs,\n\u001b[1;32m    156\u001b[0m )\n\u001b[1;32m    157\u001b[0m \u001b[39mif\u001b[39;00m swapped_deprecated_args:\n\u001b[1;32m    158\u001b[0m     \u001b[39mself\u001b[39m\u001b[39m.\u001b[39m_options[\u001b[39m\"\u001b[39m\u001b[39mmaxiter\u001b[39m\u001b[39m\"\u001b[39m] \u001b[39m=\u001b[39m \u001b[39mself\u001b[39m\u001b[39m.\u001b[39m_options\u001b[39m.\u001b[39mpop(\u001b[39m\"\u001b[39m\u001b[39mmaxfun\u001b[39m\u001b[39m\"\u001b[39m)\n",
      "File \u001b[0;32m~/.local/lib/python3.8/site-packages/scipy/optimize/_minimize.py:690\u001b[0m, in \u001b[0;36mminimize\u001b[0;34m(fun, x0, args, method, jac, hess, hessp, bounds, constraints, tol, callback, options)\u001b[0m\n\u001b[1;32m    687\u001b[0m     res \u001b[39m=\u001b[39m _minimize_cobyla(fun, x0, args, constraints, callback\u001b[39m=\u001b[39mcallback,\n\u001b[1;32m    688\u001b[0m                             \u001b[39m*\u001b[39m\u001b[39m*\u001b[39moptions)\n\u001b[1;32m    689\u001b[0m \u001b[39melif\u001b[39;00m meth \u001b[39m==\u001b[39m \u001b[39m'\u001b[39m\u001b[39mslsqp\u001b[39m\u001b[39m'\u001b[39m:\n\u001b[0;32m--> 690\u001b[0m     res \u001b[39m=\u001b[39m _minimize_slsqp(fun, x0, args, jac, bounds,\n\u001b[1;32m    691\u001b[0m                           constraints, callback\u001b[39m=\u001b[39;49mcallback, \u001b[39m*\u001b[39;49m\u001b[39m*\u001b[39;49moptions)\n\u001b[1;32m    692\u001b[0m \u001b[39melif\u001b[39;00m meth \u001b[39m==\u001b[39m \u001b[39m'\u001b[39m\u001b[39mtrust-constr\u001b[39m\u001b[39m'\u001b[39m:\n\u001b[1;32m    693\u001b[0m     res \u001b[39m=\u001b[39m _minimize_trustregion_constr(fun, x0, args, jac, hess, hessp,\n\u001b[1;32m    694\u001b[0m                                        bounds, constraints,\n\u001b[1;32m    695\u001b[0m                                        callback\u001b[39m=\u001b[39mcallback, \u001b[39m*\u001b[39m\u001b[39m*\u001b[39moptions)\n",
      "File \u001b[0;32m~/.local/lib/python3.8/site-packages/scipy/optimize/_slsqp_py.py:432\u001b[0m, in \u001b[0;36m_minimize_slsqp\u001b[0;34m(func, x0, args, jac, bounds, constraints, maxiter, ftol, iprint, disp, eps, callback, finite_diff_rel_step, **unknown_options)\u001b[0m\n\u001b[1;32m    429\u001b[0m     c \u001b[39m=\u001b[39m _eval_constraint(x, cons)\n\u001b[1;32m    431\u001b[0m \u001b[39mif\u001b[39;00m mode \u001b[39m==\u001b[39m \u001b[39m-\u001b[39m\u001b[39m1\u001b[39m:  \u001b[39m# gradient evaluation required\u001b[39m\n\u001b[0;32m--> 432\u001b[0m     g \u001b[39m=\u001b[39m append(wrapped_grad(x), \u001b[39m0.0\u001b[39m)\n\u001b[1;32m    433\u001b[0m     a \u001b[39m=\u001b[39m _eval_con_normals(x, cons, la, n, m, meq, mieq)\n\u001b[1;32m    435\u001b[0m \u001b[39mif\u001b[39;00m majiter \u001b[39m>\u001b[39m majiter_prev:\n\u001b[1;32m    436\u001b[0m     \u001b[39m# call callback if major iteration has incremented\u001b[39m\n",
      "File \u001b[0;32m~/.local/lib/python3.8/site-packages/scipy/optimize/_optimize.py:277\u001b[0m, in \u001b[0;36m_clip_x_for_func.<locals>.eval\u001b[0;34m(x)\u001b[0m\n\u001b[1;32m    275\u001b[0m \u001b[39mdef\u001b[39;00m \u001b[39meval\u001b[39m(x):\n\u001b[1;32m    276\u001b[0m     x \u001b[39m=\u001b[39m _check_clip_x(x, bounds)\n\u001b[0;32m--> 277\u001b[0m     \u001b[39mreturn\u001b[39;00m func(x)\n",
      "File \u001b[0;32m~/.local/lib/python3.8/site-packages/scipy/optimize/_differentiable_functions.py:273\u001b[0m, in \u001b[0;36mScalarFunction.grad\u001b[0;34m(self, x)\u001b[0m\n\u001b[1;32m    271\u001b[0m \u001b[39mif\u001b[39;00m \u001b[39mnot\u001b[39;00m np\u001b[39m.\u001b[39marray_equal(x, \u001b[39mself\u001b[39m\u001b[39m.\u001b[39mx):\n\u001b[1;32m    272\u001b[0m     \u001b[39mself\u001b[39m\u001b[39m.\u001b[39m_update_x_impl(x)\n\u001b[0;32m--> 273\u001b[0m \u001b[39mself\u001b[39;49m\u001b[39m.\u001b[39;49m_update_grad()\n\u001b[1;32m    274\u001b[0m \u001b[39mreturn\u001b[39;00m \u001b[39mself\u001b[39m\u001b[39m.\u001b[39mg\n",
      "File \u001b[0;32m~/.local/lib/python3.8/site-packages/scipy/optimize/_differentiable_functions.py:256\u001b[0m, in \u001b[0;36mScalarFunction._update_grad\u001b[0;34m(self)\u001b[0m\n\u001b[1;32m    254\u001b[0m \u001b[39mdef\u001b[39;00m \u001b[39m_update_grad\u001b[39m(\u001b[39mself\u001b[39m):\n\u001b[1;32m    255\u001b[0m     \u001b[39mif\u001b[39;00m \u001b[39mnot\u001b[39;00m \u001b[39mself\u001b[39m\u001b[39m.\u001b[39mg_updated:\n\u001b[0;32m--> 256\u001b[0m         \u001b[39mself\u001b[39;49m\u001b[39m.\u001b[39;49m_update_grad_impl()\n\u001b[1;32m    257\u001b[0m         \u001b[39mself\u001b[39m\u001b[39m.\u001b[39mg_updated \u001b[39m=\u001b[39m \u001b[39mTrue\u001b[39;00m\n",
      "File \u001b[0;32m~/.local/lib/python3.8/site-packages/scipy/optimize/_differentiable_functions.py:173\u001b[0m, in \u001b[0;36mScalarFunction.__init__.<locals>.update_grad\u001b[0;34m()\u001b[0m\n\u001b[1;32m    171\u001b[0m \u001b[39mself\u001b[39m\u001b[39m.\u001b[39m_update_fun()\n\u001b[1;32m    172\u001b[0m \u001b[39mself\u001b[39m\u001b[39m.\u001b[39mngev \u001b[39m+\u001b[39m\u001b[39m=\u001b[39m \u001b[39m1\u001b[39m\n\u001b[0;32m--> 173\u001b[0m \u001b[39mself\u001b[39m\u001b[39m.\u001b[39mg \u001b[39m=\u001b[39m approx_derivative(fun_wrapped, \u001b[39mself\u001b[39;49m\u001b[39m.\u001b[39;49mx, f0\u001b[39m=\u001b[39;49m\u001b[39mself\u001b[39;49m\u001b[39m.\u001b[39;49mf,\n\u001b[1;32m    174\u001b[0m                            \u001b[39m*\u001b[39;49m\u001b[39m*\u001b[39;49mfinite_diff_options)\n",
      "File \u001b[0;32m~/.local/lib/python3.8/site-packages/scipy/optimize/_numdiff.py:505\u001b[0m, in \u001b[0;36mapprox_derivative\u001b[0;34m(fun, x0, method, rel_step, abs_step, f0, bounds, sparsity, as_linear_operator, args, kwargs)\u001b[0m\n\u001b[1;32m    502\u001b[0m     use_one_sided \u001b[39m=\u001b[39m \u001b[39mFalse\u001b[39;00m\n\u001b[1;32m    504\u001b[0m \u001b[39mif\u001b[39;00m sparsity \u001b[39mis\u001b[39;00m \u001b[39mNone\u001b[39;00m:\n\u001b[0;32m--> 505\u001b[0m     \u001b[39mreturn\u001b[39;00m _dense_difference(fun_wrapped, x0, f0, h,\n\u001b[1;32m    506\u001b[0m                              use_one_sided, method)\n\u001b[1;32m    507\u001b[0m \u001b[39melse\u001b[39;00m:\n\u001b[1;32m    508\u001b[0m     \u001b[39mif\u001b[39;00m \u001b[39mnot\u001b[39;00m issparse(sparsity) \u001b[39mand\u001b[39;00m \u001b[39mlen\u001b[39m(sparsity) \u001b[39m==\u001b[39m \u001b[39m2\u001b[39m:\n",
      "File \u001b[0;32m~/.local/lib/python3.8/site-packages/scipy/optimize/_numdiff.py:576\u001b[0m, in \u001b[0;36m_dense_difference\u001b[0;34m(fun, x0, f0, h, use_one_sided, method)\u001b[0m\n\u001b[1;32m    574\u001b[0m     x \u001b[39m=\u001b[39m x0 \u001b[39m+\u001b[39m h_vecs[i]\n\u001b[1;32m    575\u001b[0m     dx \u001b[39m=\u001b[39m x[i] \u001b[39m-\u001b[39m x0[i]  \u001b[39m# Recompute dx as exactly representable number.\u001b[39m\n\u001b[0;32m--> 576\u001b[0m     df \u001b[39m=\u001b[39m fun(x) \u001b[39m-\u001b[39m f0\n\u001b[1;32m    577\u001b[0m \u001b[39melif\u001b[39;00m method \u001b[39m==\u001b[39m \u001b[39m'\u001b[39m\u001b[39m3-point\u001b[39m\u001b[39m'\u001b[39m \u001b[39mand\u001b[39;00m use_one_sided[i]:\n\u001b[1;32m    578\u001b[0m     x1 \u001b[39m=\u001b[39m x0 \u001b[39m+\u001b[39m h_vecs[i]\n",
      "File \u001b[0;32m~/.local/lib/python3.8/site-packages/scipy/optimize/_numdiff.py:456\u001b[0m, in \u001b[0;36mapprox_derivative.<locals>.fun_wrapped\u001b[0;34m(x)\u001b[0m\n\u001b[1;32m    455\u001b[0m \u001b[39mdef\u001b[39;00m \u001b[39mfun_wrapped\u001b[39m(x):\n\u001b[0;32m--> 456\u001b[0m     f \u001b[39m=\u001b[39m np\u001b[39m.\u001b[39matleast_1d(fun(x, \u001b[39m*\u001b[39;49margs, \u001b[39m*\u001b[39;49m\u001b[39m*\u001b[39;49mkwargs))\n\u001b[1;32m    457\u001b[0m     \u001b[39mif\u001b[39;00m f\u001b[39m.\u001b[39mndim \u001b[39m>\u001b[39m \u001b[39m1\u001b[39m:\n\u001b[1;32m    458\u001b[0m         \u001b[39mraise\u001b[39;00m \u001b[39mRuntimeError\u001b[39;00m(\u001b[39m\"\u001b[39m\u001b[39m`fun` return value has \u001b[39m\u001b[39m\"\u001b[39m\n\u001b[1;32m    459\u001b[0m                            \u001b[39m\"\u001b[39m\u001b[39mmore than 1 dimension.\u001b[39m\u001b[39m\"\u001b[39m)\n",
      "File \u001b[0;32m~/.local/lib/python3.8/site-packages/scipy/optimize/_differentiable_functions.py:137\u001b[0m, in \u001b[0;36mScalarFunction.__init__.<locals>.fun_wrapped\u001b[0;34m(x)\u001b[0m\n\u001b[1;32m    133\u001b[0m \u001b[39mself\u001b[39m\u001b[39m.\u001b[39mnfev \u001b[39m+\u001b[39m\u001b[39m=\u001b[39m \u001b[39m1\u001b[39m\n\u001b[1;32m    134\u001b[0m \u001b[39m# Send a copy because the user may overwrite it.\u001b[39m\n\u001b[1;32m    135\u001b[0m \u001b[39m# Overwriting results in undefined behaviour because\u001b[39m\n\u001b[1;32m    136\u001b[0m \u001b[39m# fun(self.x) will change self.x, with the two no longer linked.\u001b[39m\n\u001b[0;32m--> 137\u001b[0m fx \u001b[39m=\u001b[39m fun(np\u001b[39m.\u001b[39;49mcopy(x), \u001b[39m*\u001b[39;49margs)\n\u001b[1;32m    138\u001b[0m \u001b[39m# Make sure the function returns a true scalar\u001b[39m\n\u001b[1;32m    139\u001b[0m \u001b[39mif\u001b[39;00m \u001b[39mnot\u001b[39;00m np\u001b[39m.\u001b[39misscalar(fx):\n",
      "File \u001b[0;32m~/.local/lib/python3.8/site-packages/qiskit/algorithms/minimum_eigen_solvers/vqe.py:604\u001b[0m, in \u001b[0;36mVQE.get_energy_evaluation.<locals>.energy_evaluation\u001b[0;34m(parameters)\u001b[0m\n\u001b[1;32m    601\u001b[0m param_bindings \u001b[39m=\u001b[39m \u001b[39mdict\u001b[39m(\u001b[39mzip\u001b[39m(ansatz_params, parameter_sets\u001b[39m.\u001b[39mtranspose()\u001b[39m.\u001b[39mtolist()))\n\u001b[1;32m    603\u001b[0m start_time \u001b[39m=\u001b[39m time()\n\u001b[0;32m--> 604\u001b[0m sampled_expect_op \u001b[39m=\u001b[39m \u001b[39mself\u001b[39;49m\u001b[39m.\u001b[39;49m_circuit_sampler\u001b[39m.\u001b[39;49mconvert(expect_op, params\u001b[39m=\u001b[39;49mparam_bindings)\n\u001b[1;32m    605\u001b[0m means \u001b[39m=\u001b[39m np\u001b[39m.\u001b[39mreal(sampled_expect_op\u001b[39m.\u001b[39meval())\n\u001b[1;32m    607\u001b[0m \u001b[39mif\u001b[39;00m \u001b[39mself\u001b[39m\u001b[39m.\u001b[39m_callback \u001b[39mis\u001b[39;00m \u001b[39mnot\u001b[39;00m \u001b[39mNone\u001b[39;00m:\n",
      "File \u001b[0;32m~/.local/lib/python3.8/site-packages/qiskit/opflow/converters/circuit_sampler.py:216\u001b[0m, in \u001b[0;36mCircuitSampler.convert\u001b[0;34m(self, operator, params)\u001b[0m\n\u001b[1;32m    214\u001b[0m circs \u001b[39m=\u001b[39m \u001b[39mlist\u001b[39m(\u001b[39mself\u001b[39m\u001b[39m.\u001b[39m_circuit_ops_cache\u001b[39m.\u001b[39mvalues()) \u001b[39mif\u001b[39;00m \u001b[39mnot\u001b[39;00m \u001b[39mself\u001b[39m\u001b[39m.\u001b[39m_transpiled_circ_cache \u001b[39melse\u001b[39;00m \u001b[39mNone\u001b[39;00m\n\u001b[1;32m    215\u001b[0m p_b \u001b[39m=\u001b[39m cast(List[Dict[Parameter, \u001b[39mfloat\u001b[39m]], param_bindings)\n\u001b[0;32m--> 216\u001b[0m sampled_statefn_dicts \u001b[39m=\u001b[39m \u001b[39mself\u001b[39;49m\u001b[39m.\u001b[39;49msample_circuits(circuit_sfns\u001b[39m=\u001b[39;49mcircs, param_bindings\u001b[39m=\u001b[39;49mp_b)\n\u001b[1;32m    218\u001b[0m \u001b[39mdef\u001b[39;00m \u001b[39mreplace_circuits_with_dicts\u001b[39m(operator, param_index\u001b[39m=\u001b[39m\u001b[39m0\u001b[39m):\n\u001b[1;32m    219\u001b[0m     \u001b[39mif\u001b[39;00m \u001b[39misinstance\u001b[39m(operator, CircuitStateFn):\n",
      "File \u001b[0;32m~/.local/lib/python3.8/site-packages/qiskit/opflow/converters/circuit_sampler.py:335\u001b[0m, in \u001b[0;36mCircuitSampler.sample_circuits\u001b[0;34m(self, circuit_sfns, param_bindings)\u001b[0m\n\u001b[1;32m    330\u001b[0m \u001b[39mif\u001b[39;00m \u001b[39mself\u001b[39m\u001b[39m.\u001b[39m_transpile_before_bind \u001b[39mand\u001b[39;00m \u001b[39mself\u001b[39m\u001b[39m.\u001b[39mquantum_instance\u001b[39m.\u001b[39mbound_pass_manager \u001b[39mis\u001b[39;00m \u001b[39mnot\u001b[39;00m \u001b[39mNone\u001b[39;00m:\n\u001b[1;32m    331\u001b[0m     ready_circs \u001b[39m=\u001b[39m \u001b[39mself\u001b[39m\u001b[39m.\u001b[39mquantum_instance\u001b[39m.\u001b[39mtranspile(\n\u001b[1;32m    332\u001b[0m         ready_circs, pass_manager\u001b[39m=\u001b[39m\u001b[39mself\u001b[39m\u001b[39m.\u001b[39mquantum_instance\u001b[39m.\u001b[39mbound_pass_manager\n\u001b[1;32m    333\u001b[0m     )\n\u001b[0;32m--> 335\u001b[0m results \u001b[39m=\u001b[39m \u001b[39mself\u001b[39;49m\u001b[39m.\u001b[39;49mquantum_instance\u001b[39m.\u001b[39;49mexecute(\n\u001b[1;32m    336\u001b[0m     ready_circs, had_transpiled\u001b[39m=\u001b[39;49m\u001b[39mself\u001b[39;49m\u001b[39m.\u001b[39;49m_transpile_before_bind\n\u001b[1;32m    337\u001b[0m )\n\u001b[1;32m    339\u001b[0m \u001b[39mif\u001b[39;00m param_bindings \u001b[39mis\u001b[39;00m \u001b[39mnot\u001b[39;00m \u001b[39mNone\u001b[39;00m \u001b[39mand\u001b[39;00m \u001b[39mself\u001b[39m\u001b[39m.\u001b[39m_param_qobj:\n\u001b[1;32m    340\u001b[0m     \u001b[39mself\u001b[39m\u001b[39m.\u001b[39m_clean_parameterized_run_config()\n",
      "File \u001b[0;32m~/.local/lib/python3.8/site-packages/qiskit/utils/quantum_instance.py:708\u001b[0m, in \u001b[0;36mQuantumInstance.execute\u001b[0;34m(self, circuits, had_transpiled)\u001b[0m\n\u001b[1;32m    705\u001b[0m                 result\u001b[39m.\u001b[39mresults[n] \u001b[39m=\u001b[39m tmp_result\u001b[39m.\u001b[39mresults[i]\n\u001b[1;32m    707\u001b[0m \u001b[39melse\u001b[39;00m:\n\u001b[0;32m--> 708\u001b[0m     result \u001b[39m=\u001b[39m run_circuits(\n\u001b[1;32m    709\u001b[0m         circuits,\n\u001b[1;32m    710\u001b[0m         \u001b[39mself\u001b[39;49m\u001b[39m.\u001b[39;49m_backend,\n\u001b[1;32m    711\u001b[0m         qjob_config\u001b[39m=\u001b[39;49m\u001b[39mself\u001b[39;49m\u001b[39m.\u001b[39;49mqjob_config,\n\u001b[1;32m    712\u001b[0m         backend_options\u001b[39m=\u001b[39;49m\u001b[39mself\u001b[39;49m\u001b[39m.\u001b[39;49mbackend_options,\n\u001b[1;32m    713\u001b[0m         noise_config\u001b[39m=\u001b[39;49m\u001b[39mself\u001b[39;49m\u001b[39m.\u001b[39;49m_noise_config,\n\u001b[1;32m    714\u001b[0m         run_config\u001b[39m=\u001b[39;49m\u001b[39mself\u001b[39;49m\u001b[39m.\u001b[39;49m_run_config\u001b[39m.\u001b[39;49mto_dict(),\n\u001b[1;32m    715\u001b[0m         job_callback\u001b[39m=\u001b[39;49m\u001b[39mself\u001b[39;49m\u001b[39m.\u001b[39;49m_job_callback,\n\u001b[1;32m    716\u001b[0m         max_job_retries\u001b[39m=\u001b[39;49m\u001b[39mself\u001b[39;49m\u001b[39m.\u001b[39;49m_max_job_retries,\n\u001b[1;32m    717\u001b[0m     )\n\u001b[1;32m    718\u001b[0m     \u001b[39mself\u001b[39m\u001b[39m.\u001b[39m_time_taken \u001b[39m+\u001b[39m\u001b[39m=\u001b[39m result\u001b[39m.\u001b[39mtime_taken\n\u001b[1;32m    720\u001b[0m \u001b[39mif\u001b[39;00m \u001b[39mself\u001b[39m\u001b[39m.\u001b[39m_circuit_summary:\n",
      "File \u001b[0;32m~/.local/lib/python3.8/site-packages/qiskit/utils/run_circuits.py:183\u001b[0m, in \u001b[0;36mrun_circuits\u001b[0;34m(circuits, backend, qjob_config, backend_options, noise_config, run_config, job_callback, max_job_retries)\u001b[0m\n\u001b[1;32m    181\u001b[0m         count \u001b[39m+\u001b[39m\u001b[39m=\u001b[39m max_circuits_per_job\n\u001b[1;32m    182\u001b[0m \u001b[39melse\u001b[39;00m:\n\u001b[0;32m--> 183\u001b[0m     job, job_id \u001b[39m=\u001b[39m _safe_submit_circuits(\n\u001b[1;32m    184\u001b[0m         circuits,\n\u001b[1;32m    185\u001b[0m         backend,\n\u001b[1;32m    186\u001b[0m         qjob_config\u001b[39m=\u001b[39;49mqjob_config,\n\u001b[1;32m    187\u001b[0m         backend_options\u001b[39m=\u001b[39;49mbackend_options,\n\u001b[1;32m    188\u001b[0m         noise_config\u001b[39m=\u001b[39;49mnoise_config,\n\u001b[1;32m    189\u001b[0m         run_config\u001b[39m=\u001b[39;49mrun_config,\n\u001b[1;32m    190\u001b[0m         max_job_retries\u001b[39m=\u001b[39;49mmax_job_retries,\n\u001b[1;32m    191\u001b[0m     )\n\u001b[1;32m    192\u001b[0m     jobs \u001b[39m=\u001b[39m [job]\n\u001b[1;32m    193\u001b[0m     job_ids \u001b[39m=\u001b[39m [job_id]\n",
      "File \u001b[0;32m~/.local/lib/python3.8/site-packages/qiskit/utils/run_circuits.py:318\u001b[0m, in \u001b[0;36m_safe_submit_circuits\u001b[0;34m(circuits, backend, qjob_config, backend_options, noise_config, run_config, max_job_retries)\u001b[0m\n\u001b[1;32m    316\u001b[0m \u001b[39mfor\u001b[39;00m _ \u001b[39min\u001b[39;00m \u001b[39mrange\u001b[39m(max_job_retries):\n\u001b[1;32m    317\u001b[0m     \u001b[39mtry\u001b[39;00m:\n\u001b[0;32m--> 318\u001b[0m         job \u001b[39m=\u001b[39m _run_circuits_on_backend(\n\u001b[1;32m    319\u001b[0m             backend,\n\u001b[1;32m    320\u001b[0m             circuits,\n\u001b[1;32m    321\u001b[0m             backend_options\u001b[39m=\u001b[39;49mbackend_options,\n\u001b[1;32m    322\u001b[0m             noise_config\u001b[39m=\u001b[39;49mnoise_config,\n\u001b[1;32m    323\u001b[0m             run_config\u001b[39m=\u001b[39;49mrun_config,\n\u001b[1;32m    324\u001b[0m         )\n\u001b[1;32m    325\u001b[0m         job_id \u001b[39m=\u001b[39m job\u001b[39m.\u001b[39mjob_id()\n\u001b[1;32m    326\u001b[0m         \u001b[39mbreak\u001b[39;00m\n",
      "File \u001b[0;32m~/.local/lib/python3.8/site-packages/qiskit/utils/run_circuits.py:403\u001b[0m, in \u001b[0;36m_run_circuits_on_backend\u001b[0;34m(backend, circuits, backend_options, noise_config, run_config)\u001b[0m\n\u001b[1;32m    400\u001b[0m         \u001b[39mif\u001b[39;00m \u001b[39mnot\u001b[39;00m \u001b[39mhasattr\u001b[39m(backend\u001b[39m.\u001b[39moptions, key):\n\u001b[1;32m    401\u001b[0m             \u001b[39mdel\u001b[39;00m run_kwargs[key]\n\u001b[0;32m--> 403\u001b[0m \u001b[39mreturn\u001b[39;00m backend\u001b[39m.\u001b[39;49mrun(circuits, \u001b[39m*\u001b[39;49m\u001b[39m*\u001b[39;49mrun_kwargs)\n",
      "File \u001b[0;32m~/.local/lib/python3.8/site-packages/qiskit/providers/basicaer/qasm_simulator.py:420\u001b[0m, in \u001b[0;36mQasmSimulatorPy.run\u001b[0;34m(self, qobj, **backend_options)\u001b[0m\n\u001b[1;32m    418\u001b[0m \u001b[39mself\u001b[39m\u001b[39m.\u001b[39m_set_options(qobj_config\u001b[39m=\u001b[39mqobj_options, backend_options\u001b[39m=\u001b[39mbackend_options)\n\u001b[1;32m    419\u001b[0m job_id \u001b[39m=\u001b[39m \u001b[39mstr\u001b[39m(uuid\u001b[39m.\u001b[39muuid4())\n\u001b[0;32m--> 420\u001b[0m job \u001b[39m=\u001b[39m BasicAerJob(\u001b[39mself\u001b[39m, job_id, \u001b[39mself\u001b[39;49m\u001b[39m.\u001b[39;49m_run_job(job_id, qobj))\n\u001b[1;32m    421\u001b[0m \u001b[39mreturn\u001b[39;00m job\n",
      "File \u001b[0;32m~/.local/lib/python3.8/site-packages/qiskit/providers/basicaer/qasm_simulator.py:440\u001b[0m, in \u001b[0;36mQasmSimulatorPy._run_job\u001b[0;34m(self, job_id, qobj)\u001b[0m\n\u001b[1;32m    438\u001b[0m start \u001b[39m=\u001b[39m time\u001b[39m.\u001b[39mtime()\n\u001b[1;32m    439\u001b[0m \u001b[39mfor\u001b[39;00m experiment \u001b[39min\u001b[39;00m qobj\u001b[39m.\u001b[39mexperiments:\n\u001b[0;32m--> 440\u001b[0m     result_list\u001b[39m.\u001b[39mappend(\u001b[39mself\u001b[39;49m\u001b[39m.\u001b[39;49mrun_experiment(experiment))\n\u001b[1;32m    441\u001b[0m end \u001b[39m=\u001b[39m time\u001b[39m.\u001b[39mtime()\n\u001b[1;32m    442\u001b[0m result \u001b[39m=\u001b[39m {\n\u001b[1;32m    443\u001b[0m     \u001b[39m\"\u001b[39m\u001b[39mbackend_name\u001b[39m\u001b[39m\"\u001b[39m: \u001b[39mself\u001b[39m\u001b[39m.\u001b[39mname(),\n\u001b[1;32m    444\u001b[0m     \u001b[39m\"\u001b[39m\u001b[39mbackend_version\u001b[39m\u001b[39m\"\u001b[39m: \u001b[39mself\u001b[39m\u001b[39m.\u001b[39m_configuration\u001b[39m.\u001b[39mbackend_version,\n\u001b[0;32m   (...)\u001b[0m\n\u001b[1;32m    451\u001b[0m     \u001b[39m\"\u001b[39m\u001b[39mheader\u001b[39m\u001b[39m\"\u001b[39m: qobj\u001b[39m.\u001b[39mheader\u001b[39m.\u001b[39mto_dict(),\n\u001b[1;32m    452\u001b[0m }\n",
      "File \u001b[0;32m~/.local/lib/python3.8/site-packages/qiskit/providers/basicaer/qasm_simulator.py:556\u001b[0m, in \u001b[0;36mQasmSimulatorPy.run_experiment\u001b[0;34m(self, experiment)\u001b[0m\n\u001b[1;32m    554\u001b[0m     qubit1 \u001b[39m=\u001b[39m operation\u001b[39m.\u001b[39mqubits[\u001b[39m1\u001b[39m]\n\u001b[1;32m    555\u001b[0m     gate \u001b[39m=\u001b[39m cx_gate_matrix()\n\u001b[0;32m--> 556\u001b[0m     \u001b[39mself\u001b[39;49m\u001b[39m.\u001b[39;49m_add_unitary(gate, [qubit0, qubit1])\n\u001b[1;32m    557\u001b[0m \u001b[39m# Check if reset\u001b[39m\n\u001b[1;32m    558\u001b[0m \u001b[39melif\u001b[39;00m operation\u001b[39m.\u001b[39mname \u001b[39m==\u001b[39m \u001b[39m\"\u001b[39m\u001b[39mreset\u001b[39m\u001b[39m\"\u001b[39m:\n",
      "File \u001b[0;32m~/.local/lib/python3.8/site-packages/qiskit/providers/basicaer/qasm_simulator.py:159\u001b[0m, in \u001b[0;36mQasmSimulatorPy._add_unitary\u001b[0;34m(self, gate, qubits)\u001b[0m\n\u001b[1;32m    157\u001b[0m gate_tensor \u001b[39m=\u001b[39m np\u001b[39m.\u001b[39mreshape(np\u001b[39m.\u001b[39marray(gate, dtype\u001b[39m=\u001b[39m\u001b[39mcomplex\u001b[39m), num_qubits \u001b[39m*\u001b[39m [\u001b[39m2\u001b[39m, \u001b[39m2\u001b[39m])\n\u001b[1;32m    158\u001b[0m \u001b[39m# Apply matrix multiplication\u001b[39m\n\u001b[0;32m--> 159\u001b[0m \u001b[39mself\u001b[39m\u001b[39m.\u001b[39m_statevector \u001b[39m=\u001b[39m np\u001b[39m.\u001b[39;49meinsum(\n\u001b[1;32m    160\u001b[0m     indexes, gate_tensor, \u001b[39mself\u001b[39;49m\u001b[39m.\u001b[39;49m_statevector, dtype\u001b[39m=\u001b[39;49m\u001b[39mcomplex\u001b[39;49m, casting\u001b[39m=\u001b[39;49m\u001b[39m\"\u001b[39;49m\u001b[39mno\u001b[39;49m\u001b[39m\"\u001b[39;49m\n\u001b[1;32m    161\u001b[0m )\n",
      "File \u001b[0;32m<__array_function__ internals>:180\u001b[0m, in \u001b[0;36meinsum\u001b[0;34m(*args, **kwargs)\u001b[0m\n",
      "File \u001b[0;32m~/.local/lib/python3.8/site-packages/numpy/core/einsumfunc.py:1359\u001b[0m, in \u001b[0;36meinsum\u001b[0;34m(out, optimize, *operands, **kwargs)\u001b[0m\n\u001b[1;32m   1357\u001b[0m     \u001b[39mif\u001b[39;00m specified_out:\n\u001b[1;32m   1358\u001b[0m         kwargs[\u001b[39m'\u001b[39m\u001b[39mout\u001b[39m\u001b[39m'\u001b[39m] \u001b[39m=\u001b[39m out\n\u001b[0;32m-> 1359\u001b[0m     \u001b[39mreturn\u001b[39;00m c_einsum(\u001b[39m*\u001b[39;49moperands, \u001b[39m*\u001b[39;49m\u001b[39m*\u001b[39;49mkwargs)\n\u001b[1;32m   1361\u001b[0m \u001b[39m# Check the kwargs to avoid a more cryptic error later, without having to\u001b[39m\n\u001b[1;32m   1362\u001b[0m \u001b[39m# repeat default values here\u001b[39m\n\u001b[1;32m   1363\u001b[0m valid_einsum_kwargs \u001b[39m=\u001b[39m [\u001b[39m'\u001b[39m\u001b[39mdtype\u001b[39m\u001b[39m'\u001b[39m, \u001b[39m'\u001b[39m\u001b[39morder\u001b[39m\u001b[39m'\u001b[39m, \u001b[39m'\u001b[39m\u001b[39mcasting\u001b[39m\u001b[39m'\u001b[39m]\n",
      "\u001b[0;31mKeyboardInterrupt\u001b[0m: "
     ]
    }
   ],
   "source": [
    "def exact_solver(problem, converter):\n",
    "    solver = NumPyMinimumEigensolverFactory()\n",
    "    calc = GroundStateEigensolver(converter, solver)\n",
    "    result = calc.solve(problem)\n",
    "    return result\n",
    "\n",
    "backend = BasicAer.get_backend(\"statevector_simulator\")\n",
    "distances = np.arange(0.5, 4.0, 0.2)\n",
    "exact_energies = []\n",
    "vqe_energies = []\n",
    "optimizer = SLSQP(maxiter=5)\n",
    "\n",
    "# pylint: disable=undefined-loop-variable\n",
    "for dist in distances:\n",
    "    (qubit_op, num_particles, num_spin_orbitals,\n",
    "                             problem, converter) = get_qubit_op(dist)\n",
    "    result = exact_solver(problem,converter)\n",
    "    exact_energies.append(result.total_energies[0].real)\n",
    "    init_state = HartreeFock(num_spin_orbitals, num_particles, converter)\n",
    "    var_form = UCCSD(converter,\n",
    "                     num_particles,\n",
    "                     num_spin_orbitals,\n",
    "                     initial_state=init_state)\n",
    "    vqe = VQE(var_form, optimizer, quantum_instance=backend)\n",
    "    vqe_calc = vqe.compute_minimum_eigenvalue(qubit_op)\n",
    "    vqe_result = problem.interpret(vqe_calc).total_energies[0].real\n",
    "    vqe_energies.append(vqe_result)\n",
    "    print(f\"Interatomic Distance: {np.round(dist, 2)}\",\n",
    "          f\"VQE Result: {vqe_result:.5f}\",\n",
    "          f\"Exact Energy: {exact_energies[-1]:.5f}\")\n",
    "\n",
    "print(\"All energies have been calculated\")"
   ]
  },
  {
   "cell_type": "code",
   "execution_count": 5,
   "metadata": {},
   "outputs": [],
   "source": [
    "def get_qubit_op_h2(dist):\n",
    "    # Define Molecule\n",
    "    molecule = Molecule(\n",
    "        # Coordinates in Angstrom\n",
    "        geometry=[\n",
    "            [\"H\", [0.0, 0.0, 0.0]],\n",
    "            [\"H\", [0.0, 0.0, dist]]\n",
    "        ],\n",
    "        multiplicity=1,  # = 2*spin + 1\n",
    "        charge=0,\n",
    "    )\n",
    "\n",
    "    driver = ElectronicStructureMoleculeDriver(\n",
    "        molecule=molecule,\n",
    "        basis=\"sto3g\",\n",
    "        driver_type=ElectronicStructureDriverType.PYSCF)\n",
    "\n",
    "    # Get properties\n",
    "    properties = driver.run()\n",
    "    num_particles = (properties\n",
    "                        .get_property(\"ParticleNumber\")\n",
    "                        .num_particles)\n",
    "    num_spin_orbitals = int(properties\n",
    "                            .get_property(\"ParticleNumber\")\n",
    "                            .num_spin_orbitals)\n",
    "\n",
    "    # Define Problem, Use freeze core approximation, remove orbitals.\n",
    "    problem = ElectronicStructureProblem(\n",
    "        driver,\n",
    "        [FreezeCoreTransformer(freeze_core=True)])\n",
    "\n",
    "    second_q_ops = problem.second_q_ops()  # Get 2nd Quant OP\n",
    "    num_spin_orbitals = problem.num_spin_orbitals\n",
    "    num_particles = problem.num_particles\n",
    "    #print(second_q_ops)\n",
    "    # Get Hamiltonian\n",
    "    mapper = ParityMapper()  # Set Mapper\n",
    "    hamiltonian = second_q_ops[0]  # Set Hamiltonian\n",
    "    # Do two qubit reduction\n",
    "    converter = QubitConverter(mapper,two_qubit_reduction=True)\n",
    "    reducer = TwoQubitReduction(num_particles)\n",
    "    qubit_op = converter.convert(hamiltonian)\n",
    "    qubit_op = reducer.convert(qubit_op)\n",
    "\n",
    "    return qubit_op, num_particles, num_spin_orbitals, problem, converter"
   ]
  },
  {
   "cell_type": "code",
   "execution_count": 19,
   "metadata": {},
   "outputs": [
    {
     "ename": "AttributeError",
     "evalue": "'list' object has no attribute 'draw'",
     "output_type": "error",
     "traceback": [
      "\u001b[0;31m---------------------------------------------------------------------------\u001b[0m",
      "\u001b[0;31mAttributeError\u001b[0m                            Traceback (most recent call last)",
      "\u001b[1;32m/home/mgabijo/Documents/quantum_chemistry/Quantum-Chemistry/chemistry.ipynb Cell 5\u001b[0m in \u001b[0;36m<module>\u001b[0;34m\u001b[0m\n\u001b[1;32m     <a href='vscode-notebook-cell:/home/mgabijo/Documents/quantum_chemistry/Quantum-Chemistry/chemistry.ipynb#W4sZmlsZQ%3D%3D?line=25'>26</a>\u001b[0m \u001b[39m# Print circuit\u001b[39m\n\u001b[1;32m     <a href='vscode-notebook-cell:/home/mgabijo/Documents/quantum_chemistry/Quantum-Chemistry/chemistry.ipynb#W4sZmlsZQ%3D%3D?line=26'>27</a>\u001b[0m vqe_circuit1 \u001b[39m=\u001b[39m vqe\u001b[39m.\u001b[39mconstruct_circuit(\u001b[39mlist\u001b[39m(var_form\u001b[39m.\u001b[39mparameters), qubit_op)\n\u001b[0;32m---> <a href='vscode-notebook-cell:/home/mgabijo/Documents/quantum_chemistry/Quantum-Chemistry/chemistry.ipynb#W4sZmlsZQ%3D%3D?line=27'>28</a>\u001b[0m \u001b[39mprint\u001b[39m(vqe_circuit1\u001b[39m.\u001b[39;49mdraw())\n\u001b[1;32m     <a href='vscode-notebook-cell:/home/mgabijo/Documents/quantum_chemistry/Quantum-Chemistry/chemistry.ipynb#W4sZmlsZQ%3D%3D?line=28'>29</a>\u001b[0m vqe_calc \u001b[39m=\u001b[39m vqe\u001b[39m.\u001b[39mcompute_minimum_eigenvalue(qubit_op)\n\u001b[1;32m     <a href='vscode-notebook-cell:/home/mgabijo/Documents/quantum_chemistry/Quantum-Chemistry/chemistry.ipynb#W4sZmlsZQ%3D%3D?line=29'>30</a>\u001b[0m vqe_result \u001b[39m=\u001b[39m problem\u001b[39m.\u001b[39minterpret(vqe_calc)\u001b[39m.\u001b[39mtotal_energies[\u001b[39m0\u001b[39m]\u001b[39m.\u001b[39mreal\n",
      "\u001b[0;31mAttributeError\u001b[0m: 'list' object has no attribute 'draw'"
     ]
    }
   ],
   "source": [
    "def exact_solver(problem, converter):\n",
    "    solver = NumPyMinimumEigensolverFactory()\n",
    "    calc = GroundStateEigensolver(converter, solver)\n",
    "    result = calc.solve(problem)\n",
    "    return result\n",
    "\n",
    "backend = BasicAer.get_backend(\"statevector_simulator\")\n",
    "distances = np.arange(0.3, 2.0, 0.1)\n",
    "exact_energies = []\n",
    "vqe_energies = []\n",
    "optimizer = SLSQP(maxiter=5)\n",
    "\n",
    "# pylint: disable=undefined-loop-variable\n",
    "for dist in distances:\n",
    "    (qubit_op, num_particles, num_spin_orbitals,\n",
    "                                problem, converter) = get_qubit_op_h2(dist)\n",
    "    #print(problem)\n",
    "    result = exact_solver(problem,converter)\n",
    "    exact_energies.append(result.total_energies[0].real)\n",
    "    init_state = HartreeFock(num_spin_orbitals, num_particles, converter)\n",
    "    var_form = UCCSD(converter,\n",
    "                        num_particles,\n",
    "                        num_spin_orbitals,\n",
    "                        initial_state=init_state)\n",
    "    vqe = VQE(var_form, optimizer, quantum_instance=backend)\n",
    "    # Print circuit\n",
    "    vqe_circuit1 = vqe.construct_circuit(list(var_form.parameters), qubit_op)\n",
    "    print(vqe_circuit1.draw())\n",
    "    vqe_calc = vqe.compute_minimum_eigenvalue(qubit_op)\n",
    "    vqe_result = problem.interpret(vqe_calc).total_energies[0].real\n",
    "    vqe_energies.append(vqe_result)\n",
    "    print(\n",
    "            f\"VQE Result: {vqe_result:.5f}\",\n",
    "            f\"Exact Energy: {exact_energies[-1]:.5f}\")\n",
    "\n",
    "    print(\"All energies have been calculated\")"
   ]
  },
  {
   "cell_type": "code",
   "execution_count": 22,
   "metadata": {},
   "outputs": [
    {
     "data": {
      "text/plain": [
       "TaperedPauliSumOp(SparsePauliOp(['II', 'IZ', 'ZI', 'ZZ', 'XX'],\n",
       "              coeffs=[-0.75374195+0.j,  0.80864891+0.j, -0.80864891+0.j, -0.01328798+0.j,\n",
       "  0.16081852+0.j]), coeff=1.0)"
      ]
     },
     "execution_count": 22,
     "metadata": {},
     "output_type": "execute_result"
    }
   ],
   "source": [
    "qubit_op"
   ]
  },
  {
   "cell_type": "code",
   "execution_count": 30,
   "metadata": {},
   "outputs": [
    {
     "data": {
      "image/png": "[encoded data removed]",
      "text/plain": [
       "<Figure size 432x288 with 1 Axes>"
      ]
     },
     "metadata": {
      "needs_background": "light"
     },
     "output_type": "display_data"
    }
   ],
   "source": [
    "plt.plot(distances, exact_energies, label=\"Exact Energy\")\n",
    "plt.plot(distances, vqe_energies, label=\"VQE Energy\")\n",
    "plt.xlabel('Atomic distance (Angstrom)')\n",
    "plt.ylabel('Energy')\n",
    "plt.legend()\n",
    "plt.show()"
   ]
  },
  {
   "cell_type": "code",
   "execution_count": 60,
   "metadata": {},
   "outputs": [
    {
     "data": {
      "text/plain": [
       "0.8996338143933897"
      ]
     },
     "execution_count": 60,
     "metadata": {},
     "output_type": "execute_result"
    }
   ],
   "source": [
    "np.sqrt(0.779**2 + 0.45**2)"
   ]
  },
  {
   "cell_type": "code",
   "execution_count": 77,
   "metadata": {
    "notebookRunGroups": {
     "groupValue": ""
    }
   },
   "outputs": [],
   "source": [
    "def get_qubit_op_h3():\n",
    "    #      H\n",
    "    #\n",
    "    #   H      H\n",
    "    # Define Molecule\n",
    "    molecule = Molecule(\n",
    "        # Coordinates in Angstrom\n",
    "      \n",
    "        geometry=[\n",
    "            [\"H\", [0.0, 0.0, -2.246]],\n",
    "            [\"N\", [0.0, 0.0, 0.0]],\n",
    "            [\"C\", [0.0, 0, 1.179]]\n",
    "        ],\n",
    "        multiplicity=1,  # = 2*spin + 1\n",
    "        charge=0,\n",
    "    )\n",
    "\n",
    "    driver = ElectronicStructureMoleculeDriver(\n",
    "        molecule=molecule,\n",
    "        basis=\"sto3g\",\n",
    "        driver_type=ElectronicStructureDriverType.PYSCF)\n",
    "\n",
    "    # Get properties\n",
    "    properties = driver.run()\n",
    "    num_particles = (properties\n",
    "                        .get_property(\"ParticleNumber\")\n",
    "                        .num_particles)\n",
    "    num_spin_orbitals = int(properties\n",
    "                            .get_property(\"ParticleNumber\")\n",
    "                            .num_spin_orbitals)\n",
    "\n",
    "    # Define Problem, Use freeze core approximation, remove orbitals.\n",
    "    problem = ElectronicStructureProblem(\n",
    "        driver,\n",
    "        [FreezeCoreTransformer(freeze_core=True, remove_orbitals= range(0, 2))])\n",
    "\n",
    "    second_q_ops = problem.second_q_ops()  # Get 2nd Quant OP\n",
    "    num_spin_orbitals = problem.num_spin_orbitals\n",
    "    num_particles = problem.num_particles\n",
    "    #print(second_q_ops)\n",
    "    # Get Hamiltonian\n",
    "    mapper = ParityMapper()  # Set Mapper\n",
    "    hamiltonian = second_q_ops[0]  # Set Hamiltonian\n",
    "    # Do two qubit reduction\n",
    "    converter = QubitConverter(mapper,two_qubit_reduction=True)\n",
    "    reducer = TwoQubitReduction(num_particles)\n",
    "    qubit_op = converter.convert(hamiltonian)\n",
    "    qubit_op = reducer.convert(qubit_op)\n",
    "\n",
    "    return qubit_op, num_particles, num_spin_orbitals, problem, converter"
   ]
  },
  {
   "cell_type": "code",
   "execution_count": 78,
   "metadata": {},
   "outputs": [
    {
     "ename": "KeyboardInterrupt",
     "evalue": "",
     "output_type": "error",
     "traceback": [
      "\u001b[0;31m---------------------------------------------------------------------------\u001b[0m",
      "\u001b[0;31mKeyboardInterrupt\u001b[0m                         Traceback (most recent call last)",
      "\u001b[1;32m/home/mgabijo/Documents/quantum_chemistry/Quantum-Chemistry/chemistry.ipynb Cell 9\u001b[0m in \u001b[0;36m<module>\u001b[0;34m\u001b[0m\n\u001b[1;32m     <a href='vscode-notebook-cell:/home/mgabijo/Documents/quantum_chemistry/Quantum-Chemistry/chemistry.ipynb#X21sZmlsZQ%3D%3D?line=14'>15</a>\u001b[0m (qubit_op, num_particles, num_spin_orbitals,\n\u001b[1;32m     <a href='vscode-notebook-cell:/home/mgabijo/Documents/quantum_chemistry/Quantum-Chemistry/chemistry.ipynb#X21sZmlsZQ%3D%3D?line=15'>16</a>\u001b[0m                             problem, converter) \u001b[39m=\u001b[39m get_qubit_op_h3()\n\u001b[1;32m     <a href='vscode-notebook-cell:/home/mgabijo/Documents/quantum_chemistry/Quantum-Chemistry/chemistry.ipynb#X21sZmlsZQ%3D%3D?line=16'>17</a>\u001b[0m \u001b[39m#print(problem)\u001b[39m\n\u001b[0;32m---> <a href='vscode-notebook-cell:/home/mgabijo/Documents/quantum_chemistry/Quantum-Chemistry/chemistry.ipynb#X21sZmlsZQ%3D%3D?line=17'>18</a>\u001b[0m result \u001b[39m=\u001b[39m exact_solver(problem,converter)\n\u001b[1;32m     <a href='vscode-notebook-cell:/home/mgabijo/Documents/quantum_chemistry/Quantum-Chemistry/chemistry.ipynb#X21sZmlsZQ%3D%3D?line=18'>19</a>\u001b[0m exact_energies\u001b[39m.\u001b[39mappend(result\u001b[39m.\u001b[39mtotal_energies[\u001b[39m0\u001b[39m]\u001b[39m.\u001b[39mreal)\n\u001b[1;32m     <a href='vscode-notebook-cell:/home/mgabijo/Documents/quantum_chemistry/Quantum-Chemistry/chemistry.ipynb#X21sZmlsZQ%3D%3D?line=19'>20</a>\u001b[0m init_state \u001b[39m=\u001b[39m HartreeFock(num_spin_orbitals, num_particles, converter)\n",
      "\u001b[1;32m/home/mgabijo/Documents/quantum_chemistry/Quantum-Chemistry/chemistry.ipynb Cell 9\u001b[0m in \u001b[0;36mexact_solver\u001b[0;34m(problem, converter)\u001b[0m\n\u001b[1;32m      <a href='vscode-notebook-cell:/home/mgabijo/Documents/quantum_chemistry/Quantum-Chemistry/chemistry.ipynb#X21sZmlsZQ%3D%3D?line=1'>2</a>\u001b[0m solver \u001b[39m=\u001b[39m NumPyMinimumEigensolverFactory()\n\u001b[1;32m      <a href='vscode-notebook-cell:/home/mgabijo/Documents/quantum_chemistry/Quantum-Chemistry/chemistry.ipynb#X21sZmlsZQ%3D%3D?line=2'>3</a>\u001b[0m calc \u001b[39m=\u001b[39m GroundStateEigensolver(converter, solver)\n\u001b[0;32m----> <a href='vscode-notebook-cell:/home/mgabijo/Documents/quantum_chemistry/Quantum-Chemistry/chemistry.ipynb#X21sZmlsZQ%3D%3D?line=3'>4</a>\u001b[0m result \u001b[39m=\u001b[39m calc\u001b[39m.\u001b[39;49msolve(problem)\n\u001b[1;32m      <a href='vscode-notebook-cell:/home/mgabijo/Documents/quantum_chemistry/Quantum-Chemistry/chemistry.ipynb#X21sZmlsZQ%3D%3D?line=4'>5</a>\u001b[0m \u001b[39mreturn\u001b[39;00m result\n",
      "File \u001b[0;32m~/.local/lib/python3.8/site-packages/qiskit_nature/algorithms/ground_state_solvers/ground_state_eigensolver.py:91\u001b[0m, in \u001b[0;36mGroundStateEigensolver.solve\u001b[0;34m(self, problem, aux_operators)\u001b[0m\n\u001b[1;32m     72\u001b[0m \u001b[39m\"\"\"Compute Ground State properties.\u001b[39m\n\u001b[1;32m     73\u001b[0m \n\u001b[1;32m     74\u001b[0m \u001b[39mArgs:\u001b[39m\n\u001b[0;32m   (...)\u001b[0m\n\u001b[1;32m     88\u001b[0m \u001b[39m    :meth:`~.BaseProblem.interpret`.\u001b[39m\n\u001b[1;32m     89\u001b[0m \u001b[39m\"\"\"\u001b[39m\n\u001b[1;32m     90\u001b[0m main_operator, aux_ops \u001b[39m=\u001b[39m \u001b[39mself\u001b[39m\u001b[39m.\u001b[39mget_qubit_operators(problem, aux_operators)\n\u001b[0;32m---> 91\u001b[0m raw_mes_result \u001b[39m=\u001b[39m \u001b[39mself\u001b[39;49m\u001b[39m.\u001b[39;49m_solver\u001b[39m.\u001b[39;49mcompute_minimum_eigenvalue(main_operator, aux_ops)  \u001b[39m# type: ignore\u001b[39m\n\u001b[1;32m     93\u001b[0m result \u001b[39m=\u001b[39m problem\u001b[39m.\u001b[39minterpret(raw_mes_result)\n\u001b[1;32m     94\u001b[0m \u001b[39mreturn\u001b[39;00m result\n",
      "File \u001b[0;32m~/.local/lib/python3.8/site-packages/qiskit/algorithms/minimum_eigen_solvers/numpy_minimum_eigen_solver.py:75\u001b[0m, in \u001b[0;36mNumPyMinimumEigensolver.compute_minimum_eigenvalue\u001b[0;34m(self, operator, aux_operators)\u001b[0m\n\u001b[1;32m     71\u001b[0m \u001b[39mdef\u001b[39;00m \u001b[39mcompute_minimum_eigenvalue\u001b[39m(\n\u001b[1;32m     72\u001b[0m     \u001b[39mself\u001b[39m, operator: OperatorBase, aux_operators: Optional[ListOrDict[OperatorBase]] \u001b[39m=\u001b[39m \u001b[39mNone\u001b[39;00m\n\u001b[1;32m     73\u001b[0m ) \u001b[39m-\u001b[39m\u001b[39m>\u001b[39m MinimumEigensolverResult:\n\u001b[1;32m     74\u001b[0m     \u001b[39msuper\u001b[39m()\u001b[39m.\u001b[39mcompute_minimum_eigenvalue(operator, aux_operators)\n\u001b[0;32m---> 75\u001b[0m     result_ces \u001b[39m=\u001b[39m \u001b[39mself\u001b[39;49m\u001b[39m.\u001b[39;49m_ces\u001b[39m.\u001b[39;49mcompute_eigenvalues(operator, aux_operators)\n\u001b[1;32m     76\u001b[0m     \u001b[39mself\u001b[39m\u001b[39m.\u001b[39m_ret \u001b[39m=\u001b[39m MinimumEigensolverResult()\n\u001b[1;32m     77\u001b[0m     \u001b[39mif\u001b[39;00m result_ces\u001b[39m.\u001b[39meigenvalues \u001b[39mis\u001b[39;00m \u001b[39mnot\u001b[39;00m \u001b[39mNone\u001b[39;00m \u001b[39mand\u001b[39;00m \u001b[39mlen\u001b[39m(result_ces\u001b[39m.\u001b[39meigenvalues) \u001b[39m>\u001b[39m \u001b[39m0\u001b[39m:\n",
      "File \u001b[0;32m~/.local/lib/python3.8/site-packages/qiskit/algorithms/eigen_solvers/numpy_eigen_solver.py:224\u001b[0m, in \u001b[0;36mNumPyEigensolver.compute_eigenvalues\u001b[0;34m(self, operator, aux_operators)\u001b[0m\n\u001b[1;32m    221\u001b[0m     \u001b[39mself\u001b[39m\u001b[39m.\u001b[39m_k \u001b[39m=\u001b[39m \u001b[39m2\u001b[39m\u001b[39m*\u001b[39m\u001b[39m*\u001b[39moperator\u001b[39m.\u001b[39mnum_qubits\n\u001b[1;32m    223\u001b[0m \u001b[39mself\u001b[39m\u001b[39m.\u001b[39m_ret \u001b[39m=\u001b[39m EigensolverResult()\n\u001b[0;32m--> 224\u001b[0m \u001b[39mself\u001b[39;49m\u001b[39m.\u001b[39;49m_solve(operator)\n\u001b[1;32m    226\u001b[0m \u001b[39m# compute energies before filtering, as this also evaluates the aux operators\u001b[39m\n\u001b[1;32m    227\u001b[0m \u001b[39mself\u001b[39m\u001b[39m.\u001b[39m_get_energies(operator, aux_operators)\n",
      "File \u001b[0;32m~/.local/lib/python3.8/site-packages/qiskit/algorithms/eigen_solvers/numpy_eigen_solver.py:117\u001b[0m, in \u001b[0;36mNumPyEigensolver._solve\u001b[0;34m(self, operator)\u001b[0m\n\u001b[1;32m    116\u001b[0m \u001b[39mdef\u001b[39;00m \u001b[39m_solve\u001b[39m(\u001b[39mself\u001b[39m, operator: OperatorBase) \u001b[39m-\u001b[39m\u001b[39m>\u001b[39m \u001b[39mNone\u001b[39;00m:\n\u001b[0;32m--> 117\u001b[0m     sp_mat \u001b[39m=\u001b[39m operator\u001b[39m.\u001b[39;49mto_spmatrix()\n\u001b[1;32m    118\u001b[0m     \u001b[39m# If matrix is diagonal, the elements on the diagonal are the eigenvalues. Solve by sorting.\u001b[39m\n\u001b[1;32m    119\u001b[0m     \u001b[39mif\u001b[39;00m scisparse\u001b[39m.\u001b[39mcsr_matrix(sp_mat\u001b[39m.\u001b[39mdiagonal())\u001b[39m.\u001b[39mnnz \u001b[39m==\u001b[39m sp_mat\u001b[39m.\u001b[39mnnz:\n",
      "File \u001b[0;32m~/.local/lib/python3.8/site-packages/qiskit/opflow/primitive_ops/pauli_sum_op.py:429\u001b[0m, in \u001b[0;36mPauliSumOp.to_spmatrix\u001b[0;34m(self)\u001b[0m\n\u001b[1;32m    420\u001b[0m \u001b[39mdef\u001b[39;00m \u001b[39mto_spmatrix\u001b[39m(\u001b[39mself\u001b[39m) \u001b[39m-\u001b[39m\u001b[39m>\u001b[39m spmatrix:\n\u001b[1;32m    421\u001b[0m     \u001b[39m\"\"\"Returns SciPy sparse matrix representation of the ``PauliSumOp``.\u001b[39m\n\u001b[1;32m    422\u001b[0m \n\u001b[1;32m    423\u001b[0m \u001b[39m    Returns:\u001b[39m\n\u001b[0;32m   (...)\u001b[0m\n\u001b[1;32m    427\u001b[0m \u001b[39m        ValueError: invalid parameters.\u001b[39m\n\u001b[1;32m    428\u001b[0m \u001b[39m    \"\"\"\u001b[39m\n\u001b[0;32m--> 429\u001b[0m     \u001b[39mreturn\u001b[39;00m \u001b[39mself\u001b[39;49m\u001b[39m.\u001b[39;49mprimitive\u001b[39m.\u001b[39;49mto_matrix(sparse\u001b[39m=\u001b[39;49m\u001b[39mTrue\u001b[39;49;00m) \u001b[39m*\u001b[39m \u001b[39mself\u001b[39m\u001b[39m.\u001b[39mcoeff\n",
      "File \u001b[0;32m~/.local/lib/python3.8/site-packages/qiskit/quantum_info/operators/symplectic/sparse_pauli_op.py:714\u001b[0m, in \u001b[0;36mSparsePauliOp.to_matrix\u001b[0;34m(self, sparse)\u001b[0m\n\u001b[1;32m    703\u001b[0m \u001b[39m\"\"\"Convert to a dense or sparse matrix.\u001b[39m\n\u001b[1;32m    704\u001b[0m \n\u001b[1;32m    705\u001b[0m \u001b[39mArgs:\u001b[39m\n\u001b[0;32m   (...)\u001b[0m\n\u001b[1;32m    711\u001b[0m \u001b[39m    csr_matrix: A sparse matrix in CSR format if `sparse=True`.\u001b[39m\n\u001b[1;32m    712\u001b[0m \u001b[39m\"\"\"\u001b[39m\n\u001b[1;32m    713\u001b[0m mat \u001b[39m=\u001b[39m \u001b[39mNone\u001b[39;00m\n\u001b[0;32m--> 714\u001b[0m \u001b[39mfor\u001b[39;00m i \u001b[39min\u001b[39;00m \u001b[39mself\u001b[39m\u001b[39m.\u001b[39mmatrix_iter(sparse\u001b[39m=\u001b[39msparse):\n\u001b[1;32m    715\u001b[0m     \u001b[39mif\u001b[39;00m mat \u001b[39mis\u001b[39;00m \u001b[39mNone\u001b[39;00m:\n\u001b[1;32m    716\u001b[0m         mat \u001b[39m=\u001b[39m i\n",
      "File \u001b[0;32m~/.local/lib/python3.8/site-packages/qiskit/quantum_info/operators/custom_iterator.py:47\u001b[0m, in \u001b[0;36mCustomIterator.__next__\u001b[0;34m(self)\u001b[0m\n\u001b[1;32m     45\u001b[0m     \u001b[39mraise\u001b[39;00m \u001b[39mStopIteration\u001b[39;00m\n\u001b[1;32m     46\u001b[0m \u001b[39mself\u001b[39m\u001b[39m.\u001b[39m_iter \u001b[39m+\u001b[39m\u001b[39m=\u001b[39m \u001b[39m1\u001b[39m\n\u001b[0;32m---> 47\u001b[0m \u001b[39mreturn\u001b[39;00m \u001b[39mself\u001b[39;49m[\u001b[39mself\u001b[39;49m\u001b[39m.\u001b[39;49m_iter \u001b[39m-\u001b[39;49m \u001b[39m1\u001b[39;49m]\n",
      "File \u001b[0;32m~/.local/lib/python3.8/site-packages/qiskit/quantum_info/operators/symplectic/sparse_pauli_op.py:777\u001b[0m, in \u001b[0;36mSparsePauliOp.matrix_iter.<locals>.MatrixIterator.__getitem__\u001b[0;34m(self, key)\u001b[0m\n\u001b[1;32m    775\u001b[0m \u001b[39mdef\u001b[39;00m \u001b[39m__getitem__\u001b[39m(\u001b[39mself\u001b[39m, key):\n\u001b[1;32m    776\u001b[0m     coeff \u001b[39m=\u001b[39m \u001b[39mself\u001b[39m\u001b[39m.\u001b[39mobj\u001b[39m.\u001b[39mcoeffs[key]\n\u001b[0;32m--> 777\u001b[0m     mat \u001b[39m=\u001b[39m \u001b[39mself\u001b[39;49m\u001b[39m.\u001b[39;49mobj\u001b[39m.\u001b[39;49mpaulis[key]\u001b[39m.\u001b[39;49mto_matrix(sparse)\n\u001b[1;32m    778\u001b[0m     \u001b[39mreturn\u001b[39;00m coeff \u001b[39m*\u001b[39m mat\n",
      "File \u001b[0;32m~/.local/lib/python3.8/site-packages/qiskit/quantum_info/operators/symplectic/pauli.py:435\u001b[0m, in \u001b[0;36mPauli.to_matrix\u001b[0;34m(self, sparse)\u001b[0m\n\u001b[1;32m    425\u001b[0m \u001b[39mdef\u001b[39;00m \u001b[39mto_matrix\u001b[39m(\u001b[39mself\u001b[39m, sparse\u001b[39m=\u001b[39m\u001b[39mFalse\u001b[39;00m):\n\u001b[1;32m    426\u001b[0m     \u001b[39mr\u001b[39m\u001b[39m\"\"\"Convert to a Numpy array or sparse CSR matrix.\u001b[39m\n\u001b[1;32m    427\u001b[0m \n\u001b[1;32m    428\u001b[0m \u001b[39m    Args:\u001b[39m\n\u001b[0;32m   (...)\u001b[0m\n\u001b[1;32m    433\u001b[0m \u001b[39m        array: The Pauli matrix.\u001b[39m\n\u001b[1;32m    434\u001b[0m \u001b[39m    \"\"\"\u001b[39m\n\u001b[0;32m--> 435\u001b[0m     \u001b[39mreturn\u001b[39;00m \u001b[39mself\u001b[39;49m\u001b[39m.\u001b[39;49m_to_matrix(\u001b[39mself\u001b[39;49m\u001b[39m.\u001b[39;49mz, \u001b[39mself\u001b[39;49m\u001b[39m.\u001b[39;49mx, \u001b[39mself\u001b[39;49m\u001b[39m.\u001b[39;49m_phase[\u001b[39m0\u001b[39;49m], sparse\u001b[39m=\u001b[39;49msparse)\n",
      "File \u001b[0;32m~/.local/lib/python3.8/site-packages/qiskit/quantum_info/operators/symplectic/base_pauli.py:436\u001b[0m, in \u001b[0;36mBasePauli._to_matrix\u001b[0;34m(z, x, phase, group_phase, sparse)\u001b[0m\n\u001b[1;32m    434\u001b[0m \u001b[39melse\u001b[39;00m:\n\u001b[1;32m    435\u001b[0m     coeff \u001b[39m=\u001b[39m \u001b[39m1\u001b[39m\n\u001b[0;32m--> 436\u001b[0m data \u001b[39m=\u001b[39m np\u001b[39m.\u001b[39marray([coeff \u001b[39m*\u001b[39m (\u001b[39m-\u001b[39m\u001b[39m1\u001b[39m) \u001b[39m*\u001b[39m\u001b[39m*\u001b[39m (\u001b[39mbin\u001b[39m(i)\u001b[39m.\u001b[39mcount(\u001b[39m\"\u001b[39m\u001b[39m1\u001b[39m\u001b[39m\"\u001b[39m) \u001b[39m%\u001b[39m \u001b[39m2\u001b[39m) \u001b[39mfor\u001b[39;00m i \u001b[39min\u001b[39;00m z_indices \u001b[39m&\u001b[39m indptr])\n\u001b[1;32m    437\u001b[0m \u001b[39mif\u001b[39;00m sparse:\n\u001b[1;32m    438\u001b[0m     \u001b[39m# Return sparse matrix\u001b[39m\n\u001b[1;32m    439\u001b[0m     \u001b[39mfrom\u001b[39;00m \u001b[39mscipy\u001b[39;00m\u001b[39m.\u001b[39;00m\u001b[39msparse\u001b[39;00m \u001b[39mimport\u001b[39;00m csr_matrix\n",
      "File \u001b[0;32m~/.local/lib/python3.8/site-packages/qiskit/quantum_info/operators/symplectic/base_pauli.py:436\u001b[0m, in \u001b[0;36m<listcomp>\u001b[0;34m(.0)\u001b[0m\n\u001b[1;32m    434\u001b[0m \u001b[39melse\u001b[39;00m:\n\u001b[1;32m    435\u001b[0m     coeff \u001b[39m=\u001b[39m \u001b[39m1\u001b[39m\n\u001b[0;32m--> 436\u001b[0m data \u001b[39m=\u001b[39m np\u001b[39m.\u001b[39marray([coeff \u001b[39m*\u001b[39;49m (\u001b[39m-\u001b[39;49m\u001b[39m1\u001b[39;49m) \u001b[39m*\u001b[39;49m\u001b[39m*\u001b[39;49m (\u001b[39mbin\u001b[39;49m(i)\u001b[39m.\u001b[39;49mcount(\u001b[39m\"\u001b[39;49m\u001b[39m1\u001b[39;49m\u001b[39m\"\u001b[39;49m) \u001b[39m%\u001b[39;49m \u001b[39m2\u001b[39;49m) \u001b[39mfor\u001b[39;00m i \u001b[39min\u001b[39;00m z_indices \u001b[39m&\u001b[39m indptr])\n\u001b[1;32m    437\u001b[0m \u001b[39mif\u001b[39;00m sparse:\n\u001b[1;32m    438\u001b[0m     \u001b[39m# Return sparse matrix\u001b[39m\n\u001b[1;32m    439\u001b[0m     \u001b[39mfrom\u001b[39;00m \u001b[39mscipy\u001b[39;00m\u001b[39m.\u001b[39;00m\u001b[39msparse\u001b[39;00m \u001b[39mimport\u001b[39;00m csr_matrix\n",
      "\u001b[0;31mKeyboardInterrupt\u001b[0m: "
     ]
    }
   ],
   "source": [
    "def exact_solver(problem, converter):\n",
    "    solver = NumPyMinimumEigensolverFactory()\n",
    "    calc = GroundStateEigensolver(converter, solver)\n",
    "    result = calc.solve(problem)\n",
    "    return result\n",
    "\n",
    "backend = BasicAer.get_backend(\"statevector_simulator\")\n",
    "distances = np.arange(0.3, 2.0, 0.1)\n",
    "exact_energies = []\n",
    "vqe_energies = []\n",
    "optimizer = SLSQP(maxiter=5)\n",
    "\n",
    "# pylint: disable=undefined-loop-variable\n",
    "#for dist in distances:\n",
    "(qubit_op, num_particles, num_spin_orbitals,\n",
    "                            problem, converter) = get_qubit_op_h3()\n",
    "#print(problem)\n",
    "result = exact_solver(problem,converter)\n",
    "exact_energies.append(result.total_energies[0].real)\n",
    "init_state = HartreeFock(num_spin_orbitals, num_particles, converter)\n",
    "var_form = UCCSD(converter,\n",
    "                    num_particles,\n",
    "                    num_spin_orbitals,\n",
    "                    initial_state=init_state)\n",
    "vqe = VQE(var_form, optimizer, quantum_instance=backend)\n",
    "vqe_calc = vqe.compute_minimum_eigenvalue(qubit_op)\n",
    "vqe_result = problem.interpret(vqe_calc).total_energies[0].real\n",
    "vqe_energies.append(vqe_result)\n",
    "print(\n",
    "        f\"VQE Result: {vqe_result:.5f}\",\n",
    "        f\"Exact Energy: {exact_energies[-1]:.5f}\")\n",
    "\n",
    "print(\"All energies have been calculated\")"
   ]
  },
  {
   "cell_type": "code",
   "execution_count": 2,
   "metadata": {},
   "outputs": [],
   "source": [
    "# oxalic acid geometry\n",
    "#       O\n",
    "#       |\n",
    "#       C - C - O - H\n",
    "#       |   \n",
    "#       O - H\n",
    "# Bond lengths in Angstroms\n",
    "# C-O bond length is 1.43 Angstroms \n",
    "# C-C bond length is 1.45 Angstroms\n",
    "# O-H bond length is 0.96 Angstroms\n",
    "\n",
    "# set the Molecule for Oxalic Acid\n",
    "geometry = [('C', (0., 0., 0.)),\n",
    "            ('O', (0., 0., 1.43)),\n",
    "            ('O', (0., 0., -1.43)),\n",
    "            ('C', (1.45, 0., 0.)),\n",
    "            ('O', (2.48, 0., 0.)),\n",
    "            ('H', (3.44, 0., 0.)),\n",
    "            ('H', (0., 0.96, -1.43))]\n",
    "\n",
    "basis = 'sto-3g'\n",
    "multiplicity = 1\n",
    "charge = 0\n",
    "\n",
    "# set the Molecule for Oxalic Acid\n",
    "molecule = Molecule(geometry, basis, multiplicity, charge)\n"
   ]
  },
  {
   "cell_type": "code",
   "execution_count": 9,
   "metadata": {},
   "outputs": [],
   "source": [
    "# Define Molecule\n",
    "molecule = Molecule(\n",
    "    # Coordinates in Angstrom\n",
    "    geometry=[\n",
    "        [\"Li\", [0.0, 0.0, 0.0]],\n",
    "        [\"H\", [0.7, 0.0, 0.0]]\n",
    "    ],\n",
    "    multiplicity=1,  # = 2*spin + 1\n",
    "    charge=0,\n",
    ")\n",
    "\n",
    "driver = ElectronicStructureMoleculeDriver(\n",
    "    molecule=molecule,\n",
    "    basis=\"sto3g\",\n",
    "    driver_type=ElectronicStructureDriverType.PYSCF)\n",
    "\n",
    "# Get properties\n",
    "properties = driver.run()\n",
    "num_particles = (properties\n",
    "                    .get_property(\"ParticleNumber\")\n",
    "                    .num_particles)\n",
    "num_spin_orbitals = int(properties\n",
    "                        .get_property(\"ParticleNumber\")\n",
    "                        .num_spin_orbitals)\n",
    "\n",
    "# Define Problem, Use freeze core approximation, remove orbitals.\n",
    "problem = ElectronicStructureProblem(\n",
    "    driver,\n",
    "    [FreezeCoreTransformer(freeze_core=True,\n",
    "                            remove_orbitals=[-3,-2])])\n",
    "\n",
    "second_q_ops = problem.second_q_ops()  # Get 2nd Quant OP"
   ]
  },
  {
   "cell_type": "code",
   "execution_count": 12,
   "metadata": {},
   "outputs": [
    {
     "data": {
      "text/plain": [
       "['ParticleNumber',\n",
       " 'ElectronicEnergy',\n",
       " 'DipoleMomentX',\n",
       " 'DipoleMomentY',\n",
       " 'DipoleMomentZ',\n",
       " 'AngularMomentum',\n",
       " 'Magnetization']"
      ]
     },
     "execution_count": 12,
     "metadata": {},
     "output_type": "execute_result"
    }
   ],
   "source": [
    "list(second_q_ops)"
   ]
  },
  {
   "cell_type": "code",
   "execution_count": 13,
   "metadata": {},
   "outputs": [
    {
     "data": {
      "text/plain": [
       "<qiskit_nature.mappers.second_quantization.parity_mapper.ParityMapper at 0x7fe1477570d0>"
      ]
     },
     "execution_count": 13,
     "metadata": {},
     "output_type": "execute_result"
    }
   ],
   "source": [
    "mapper"
   ]
  },
  {
   "cell_type": "code",
   "execution_count": null,
   "metadata": {},
   "outputs": [],
   "source": []
  }
 ],
 "metadata": {
  "kernelspec": {
   "display_name": "Python 3.8.10 64-bit",
   "language": "python",
   "name": "python3"
  },
  "language_info": {
   "codemirror_mode": {
    "name": "ipython",
    "version": 3
   },
   "file_extension": ".py",
   "mimetype": "text/x-python",
   "name": "python",
   "nbconvert_exporter": "python",
   "pygments_lexer": "ipython3",
   "version": "3.8.10"
  },
  "orig_nbformat": 4,
  "vscode": {
   "interpreter": {
    "hash": "e7370f93d1d0cde622a1f8e1c04877d8463912d04d973331ad4851f04de6915a"
   }
  }
 },
 "nbformat": 4,
 "nbformat_minor": 2
}
