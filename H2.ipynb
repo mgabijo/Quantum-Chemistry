{
 "cells": [
  {
   "cell_type": "code",
   "execution_count": 1,
   "metadata": {},
   "outputs": [],
   "source": [
    "\n",
    "from qiskit.algorithms import VQE\n",
    "from qiskit_nature.algorithms import (GroundStateEigensolver,\n",
    "                                      NumPyMinimumEigensolverFactory)\n",
    "from qiskit_nature.drivers import Molecule, UnitsType\n",
    "from qiskit_nature.drivers.second_quantization import PySCFDriver, ElectronicStructureMoleculeDriver, ElectronicStructureDriverType\n",
    "from qiskit_nature.transformers.second_quantization.electronic import FreezeCoreTransformer\n",
    "from qiskit_nature.problems.second_quantization import ElectronicStructureProblem\n",
    "from qiskit_nature.converters.second_quantization import QubitConverter\n",
    "from qiskit_nature.mappers.second_quantization import ParityMapper\n",
    "\n",
    "import matplotlib.pyplot as plt\n",
    "import numpy as np\n",
    "from qiskit_nature.circuit.library import UCCSD, HartreeFock\n",
    "from qiskit.circuit.library import EfficientSU2\n",
    "from qiskit.algorithms.optimizers import COBYLA, SPSA, SLSQP\n",
    "from qiskit.opflow import TwoQubitReduction\n",
    "from qiskit import BasicAer, Aer\n",
    "from qiskit.utils import QuantumInstance\n",
    "from qiskit.utils.mitigation import CompleteMeasFitter\n",
    "from qiskit.providers.aer.noise import NoiseModel\n",
    "from qiskit import Aer, IBMQ\n",
    "from qiskit.providers.aer import AerSimulator\n",
    "from qiskit.tools.visualization import plot_histogram, plot_circuit_layout, plot_gate_map\n",
    "import pickle"
   ]
  },
  {
   "cell_type": "code",
   "execution_count": 2,
   "metadata": {},
   "outputs": [
    {
     "data": {
      "text/plain": [
       "[<IBMQSimulator('ibmq_qasm_simulator') from IBMQ(hub='ibm-q-research-2', group='uminho-1', project='main')>,\n",
       " <IBMQBackend('ibmq_armonk') from IBMQ(hub='ibm-q-research-2', group='uminho-1', project='main')>,\n",
       " <IBMQBackend('ibmq_santiago') from IBMQ(hub='ibm-q-research-2', group='uminho-1', project='main')>,\n",
       " <IBMQBackend('ibmq_bogota') from IBMQ(hub='ibm-q-research-2', group='uminho-1', project='main')>,\n",
       " <IBMQBackend('ibmq_lima') from IBMQ(hub='ibm-q-research-2', group='uminho-1', project='main')>,\n",
       " <IBMQBackend('ibmq_belem') from IBMQ(hub='ibm-q-research-2', group='uminho-1', project='main')>,\n",
       " <IBMQBackend('ibmq_quito') from IBMQ(hub='ibm-q-research-2', group='uminho-1', project='main')>,\n",
       " <IBMQSimulator('simulator_statevector') from IBMQ(hub='ibm-q-research-2', group='uminho-1', project='main')>,\n",
       " <IBMQSimulator('simulator_mps') from IBMQ(hub='ibm-q-research-2', group='uminho-1', project='main')>,\n",
       " <IBMQSimulator('simulator_extended_stabilizer') from IBMQ(hub='ibm-q-research-2', group='uminho-1', project='main')>,\n",
       " <IBMQSimulator('simulator_stabilizer') from IBMQ(hub='ibm-q-research-2', group='uminho-1', project='main')>,\n",
       " <IBMQBackend('ibmq_jakarta') from IBMQ(hub='ibm-q-research-2', group='uminho-1', project='main')>,\n",
       " <IBMQBackend('ibmq_manila') from IBMQ(hub='ibm-q-research-2', group='uminho-1', project='main')>,\n",
       " <IBMQBackend('ibm_lagos') from IBMQ(hub='ibm-q-research-2', group='uminho-1', project='main')>,\n",
       " <IBMQBackend('ibm_nairobi') from IBMQ(hub='ibm-q-research-2', group='uminho-1', project='main')>,\n",
       " <IBMQBackend('ibm_perth') from IBMQ(hub='ibm-q-research-2', group='uminho-1', project='main')>,\n",
       " <IBMQBackend('ibm_oslo') from IBMQ(hub='ibm-q-research-2', group='uminho-1', project='main')>]"
      ]
     },
     "execution_count": 2,
     "metadata": {},
     "output_type": "execute_result"
    }
   ],
   "source": [
    "# Save IBM account\n",
    "#IBMQ.save_account('')\n",
    "IBMQ.load_account()\n",
    "# Choose the provider (if you have more than one)\n",
    "provider = IBMQ.get_provider(hub='ibm-q-research-2', group='uminho-1', project='main')\n",
    "\n",
    "# Show the possible backends\n",
    "provider.backends()"
   ]
  },
  {
   "cell_type": "code",
   "execution_count": 3,
   "metadata": {},
   "outputs": [
    {
     "name": "stdout",
     "output_type": "stream",
     "text": [
      "ibmq_armonk has a queue time of None\n",
      "ibmq_santiago has a queue time of None\n",
      "ibmq_bogota has a queue time of None\n",
      "ibmq_lima has a queue time of 67\n",
      "ibmq_belem has a queue time of 39\n",
      "ibmq_quito has a queue time of 39\n",
      "ibmq_jakarta has a queue time of 41\n",
      "ibmq_manila has a queue time of 40\n",
      "ibm_lagos has a queue time of 39\n",
      "ibm_nairobi has a queue time of 112\n",
      "ibm_perth has a queue time of 11\n",
      "ibm_oslo has a queue time of 51\n"
     ]
    }
   ],
   "source": [
    "\n",
    "\n",
    "# List queue times\n",
    "for backend in provider.backends():\n",
    "    if backend.configuration().simulator:\n",
    "        continue\n",
    "    try:\n",
    "        qtime = backend.status().pending_jobs\n",
    "    except:\n",
    "        qtime = 'None'\n",
    "    print(backend.name(), \"has a queue time of\", qtime)"
   ]
  },
  {
   "attachments": {},
   "cell_type": "markdown",
   "metadata": {},
   "source": [
    "# Quantum Chemistry\n",
    "## Finding the minimum energy of moleculas\n",
    "### Class of Quantum Computation of University of Minho\n",
    "### 2022/2023\n",
    "#### Maria Gabriela Jordão Oliveira, pg50599\n",
    "#### Miguel Caçador Peixoto, pg"
   ]
  },
  {
   "cell_type": "code",
   "execution_count": 4,
   "metadata": {},
   "outputs": [
    {
     "name": "stderr",
     "output_type": "stream",
     "text": [
      "/home/mcpeixoto/Desktop/Quantum-Chemistry/.env/lib/python3.10/site-packages/qiskit/providers/aer/noise/device/models.py:264: UserWarning: Device model returned an invalid T_2 relaxation time greater than the theoretical maximum value 2 * T_1 (186064.81242819485 > 2 * 55387.74775816904). Truncating to maximum value.\n",
      "  warn(\"Device model returned an invalid T_2 relaxation time greater than\"\n",
      "/home/mcpeixoto/Desktop/Quantum-Chemistry/.env/lib/python3.10/site-packages/qiskit/providers/aer/noise/device/models.py:264: UserWarning: Device model returned an invalid T_2 relaxation time greater than the theoretical maximum value 2 * T_1 (186064.81242819485 > 2 * 55387.74775816904). Truncating to maximum value.\n",
      "  warn(\"Device model returned an invalid T_2 relaxation time greater than\"\n",
      "/home/mcpeixoto/Desktop/Quantum-Chemistry/.env/lib/python3.10/site-packages/qiskit/providers/aer/noise/device/models.py:264: UserWarning: Device model returned an invalid T_2 relaxation time greater than the theoretical maximum value 2 * T_1 (186064.81242819485 > 2 * 55387.74775816904). Truncating to maximum value.\n",
      "  warn(\"Device model returned an invalid T_2 relaxation time greater than\"\n",
      "/home/mcpeixoto/Desktop/Quantum-Chemistry/.env/lib/python3.10/site-packages/qiskit/providers/aer/noise/device/models.py:264: UserWarning: Device model returned an invalid T_2 relaxation time greater than the theoretical maximum value 2 * T_1 (186064.81242819485 > 2 * 55387.74775816904). Truncating to maximum value.\n",
      "  warn(\"Device model returned an invalid T_2 relaxation time greater than\"\n",
      "/home/mcpeixoto/Desktop/Quantum-Chemistry/.env/lib/python3.10/site-packages/qiskit/providers/aer/noise/device/models.py:264: UserWarning: Device model returned an invalid T_2 relaxation time greater than the theoretical maximum value 2 * T_1 (186064.81242819485 > 2 * 55387.74775816904). Truncating to maximum value.\n",
      "  warn(\"Device model returned an invalid T_2 relaxation time greater than\"\n",
      "/home/mcpeixoto/Desktop/Quantum-Chemistry/.env/lib/python3.10/site-packages/qiskit/providers/aer/noise/device/models.py:264: UserWarning: Device model returned an invalid T_2 relaxation time greater than the theoretical maximum value 2 * T_1 (186064.81242819485 > 2 * 55387.74775816904). Truncating to maximum value.\n",
      "  warn(\"Device model returned an invalid T_2 relaxation time greater than\"\n",
      "/home/mcpeixoto/Desktop/Quantum-Chemistry/.env/lib/python3.10/site-packages/qiskit/providers/aer/noise/device/models.py:264: UserWarning: Device model returned an invalid T_2 relaxation time greater than the theoretical maximum value 2 * T_1 (186064.81242819485 > 2 * 55387.74775816904). Truncating to maximum value.\n",
      "  warn(\"Device model returned an invalid T_2 relaxation time greater than\"\n",
      "/home/mcpeixoto/Desktop/Quantum-Chemistry/.env/lib/python3.10/site-packages/qiskit/providers/aer/noise/device/models.py:264: UserWarning: Device model returned an invalid T_2 relaxation time greater than the theoretical maximum value 2 * T_1 (186064.81242819485 > 2 * 55387.74775816904). Truncating to maximum value.\n",
      "  warn(\"Device model returned an invalid T_2 relaxation time greater than\"\n",
      "/home/mcpeixoto/Desktop/Quantum-Chemistry/.env/lib/python3.10/site-packages/qiskit/providers/aer/noise/device/models.py:264: UserWarning: Device model returned an invalid T_2 relaxation time greater than the theoretical maximum value 2 * T_1 (0.00018606481242819484 > 2 * 5.538774775816904e-05). Truncating to maximum value.\n",
      "  warn(\"Device model returned an invalid T_2 relaxation time greater than\"\n"
     ]
    }
   ],
   "source": [
    "# Choose the \"perfect\" simulator\n",
    "simulation_backend = Aer.get_backend(\"statevector_simulator\")\n",
    "\n",
    "# Choose the real device\n",
    "real_device = provider.get_backend('ibm_perth')\n",
    "\n",
    "# Create a simulator from the real device\n",
    "sim_device = AerSimulator.from_backend(real_device)"
   ]
  },
  {
   "cell_type": "code",
   "execution_count": 5,
   "metadata": {},
   "outputs": [],
   "source": [
    "# Exact solver for comparison\n",
    "def exact_solver(problem, converter):\n",
    "    '''\n",
    "    This function finds the exact solution for a given problem and converter.\n",
    "    This is a pure classical solver.\n",
    "    '''\n",
    "    solver = NumPyMinimumEigensolverFactory()\n",
    "    calc = GroundStateEigensolver(converter, solver)\n",
    "    result = calc.solve(problem)\n",
    "    return result"
   ]
  },
  {
   "attachments": {},
   "cell_type": "markdown",
   "metadata": {},
   "source": [
    "## H2\n",
    "##### Expected energy: -1.117506  hartree\n",
    "##### Expected bond length: 0.712 Angstrom"
   ]
  },
  {
   "cell_type": "code",
   "execution_count": 6,
   "metadata": {},
   "outputs": [],
   "source": [
    "def get_qubit_op_h2(dist):\n",
    "    '''\n",
    "    Args:\n",
    "    dist : Distance between H and H in Angstrom\n",
    "    \n",
    "    Returns:\n",
    "    qubit_op : Qubit operator\n",
    "    num_particles : Number of particles\n",
    "    num_spin_orbitals : Number of spin orbitals\n",
    "    problem : Problem. Electronic structure problem with driver and transformers. Freeze core transformation is used.\n",
    "    converter : Converter. Qubit converter with parity mapper and two qubit reduction.\n",
    "    '''\n",
    "    # Define Molecule\n",
    "    molecule = Molecule(\n",
    "        # Coordinates in Angstrom\n",
    "        geometry=[\n",
    "            [\"H\", [0.0, 0.0, 0.0]],\n",
    "            [\"H\", [dist, 0.0, 0.0]]\n",
    "        ],\n",
    "        multiplicity=1,  # = 2*spin + 1\n",
    "        charge=0,\n",
    "    )\n",
    "\n",
    "    driver = ElectronicStructureMoleculeDriver(\n",
    "        molecule=molecule,\n",
    "        basis=\"sto3g\",\n",
    "        driver_type=ElectronicStructureDriverType.PYSCF)\n",
    "\n",
    "    # Get properties\n",
    "    properties = driver.run()\n",
    "    num_particles = (properties\n",
    "                        .get_property(\"ParticleNumber\")\n",
    "                        .num_particles)\n",
    "    num_spin_orbitals = int(properties\n",
    "                            .get_property(\"ParticleNumber\")\n",
    "                            .num_spin_orbitals)\n",
    "\n",
    "    # Define Problem, Use freeze core approximation, remove orbitals.\n",
    "    problem = ElectronicStructureProblem(\n",
    "        driver,\n",
    "        [FreezeCoreTransformer(freeze_core=True)])\n",
    "                              # remove_orbitals=[-3,-2])])\n",
    "\n",
    "    second_q_ops = problem.second_q_ops()  # Get 2nd Quant OP\n",
    "    num_spin_orbitals = problem.num_spin_orbitals\n",
    "    num_particles = problem.num_particles\n",
    "    #print(second_q_ops)\n",
    "    # Get Hamiltonian\n",
    "    mapper = ParityMapper()  # Set Mapper\n",
    "    hamiltonian = second_q_ops[0]  # Set Hamiltonian\n",
    "    # Do two qubit reduction\n",
    "    converter = QubitConverter(mapper,two_qubit_reduction=True)\n",
    "    reducer = TwoQubitReduction(num_particles)\n",
    "    qubit_op = converter.convert(hamiltonian)\n",
    "    qubit_op = reducer.convert(qubit_op)\n",
    "\n",
    "    return qubit_op, num_particles, num_spin_orbitals, problem, converter"
   ]
  },
  {
   "cell_type": "code",
   "execution_count": null,
   "metadata": {},
   "outputs": [],
   "source": [
    "#backend = Aer.get_backend(\"statevector_simulator\")\n",
    "distances = np.arange(0.1, 2, 0.1)\n",
    "exact_energies = []\n",
    "vqe_energies = []\n",
    "optimizer = SLSQP(maxiter=5)\n",
    "\n",
    "# pylint: disable=undefined-loop-variable\n",
    "for dist in distances:\n",
    "    (qubit_op, num_particles, num_spin_orbitals,\n",
    "                             problem, converter) = get_qubit_op_h2(dist)\n",
    "    result = exact_solver(problem,converter)\n",
    "    exact_energies.append(result.total_energies[0].real)\n",
    "    init_state = HartreeFock(num_spin_orbitals, num_particles, converter)\n",
    "    var_form = UCCSD(converter,\n",
    "                     num_particles,\n",
    "                     num_spin_orbitals,\n",
    "                     initial_state=init_state)\n",
    "    vqe = VQE(var_form, optimizer, quantum_instance=simulation_backend)\n",
    "    vqe_calc = vqe.compute_minimum_eigenvalue(qubit_op)\n",
    "    vqe_result = problem.interpret(vqe_calc).total_energies[0].real\n",
    "    vqe_energies.append(vqe_result)\n",
    "    print(f\"Interatomic Distance: {np.round(dist, 2)}\",\n",
    "          f\"VQE Result: {vqe_result:.5f}\",\n",
    "          f\"Exact Energy: {exact_energies[-1]:.5f}\")\n",
    "\n",
    "print(\"All energies have been calculated\")\n",
    "\n",
    "# Save the data\n",
    "with open(\"simulation_h2.pkl\", \"wb\") as f:\n",
    "    pickle.dump(vqe_energies, f)\n",
    "with open(\"exact_h2.pkl\", \"wb\") as f:\n",
    "    pickle.dump(exact_energies, f)"
   ]
  },
  {
   "cell_type": "code",
   "execution_count": null,
   "metadata": {},
   "outputs": [],
   "source": [
    "plt.plot(distances, exact_energies, label=\"Exact Energy\")\n",
    "plt.plot(distances, vqe_energies, label=\"VQE Energy\")\n",
    "plt.xlabel('Atomic distance (Angstrom)')\n",
    "plt.ylabel('Energy')\n",
    "plt.legend()\n",
    "plt.show()"
   ]
  },
  {
   "cell_type": "code",
   "execution_count": null,
   "metadata": {},
   "outputs": [],
   "source": [
    "var_form.num_qubits"
   ]
  },
  {
   "cell_type": "code",
   "execution_count": null,
   "metadata": {},
   "outputs": [],
   "source": [
    "qubit_op.num_qubits"
   ]
  },
  {
   "attachments": {},
   "cell_type": "markdown",
   "metadata": {},
   "source": [
    "#### Simulador lagos"
   ]
  },
  {
   "cell_type": "code",
   "execution_count": 7,
   "metadata": {},
   "outputs": [
    {
     "name": "stdout",
     "output_type": "stream",
     "text": [
      "Interatomic Distance: 0.1 VQE Result: 3.39234 Exact Energy: 2.70996\n",
      "Interatomic Distance: 0.3 VQE Result: -0.50931 Exact Energy: -0.60180\n",
      "Interatomic Distance: 0.5 VQE Result: -0.78692 Exact Energy: -1.05516\n",
      "Interatomic Distance: 0.7 VQE Result: -0.93921 Exact Energy: -1.13619\n",
      "Interatomic Distance: 0.9 VQE Result: -0.71261 Exact Energy: -1.12056\n",
      "All energies have been calculated\n"
     ]
    }
   ],
   "source": [
    "distances = np.arange(0.1, 1.1, 0.2)\n",
    "exact_energies = []\n",
    "vqe_energies = []\n",
    "\n",
    "\n",
    "#Get noise model\n",
    "\n",
    "coupling_map = sim_device.configuration().coupling_map\n",
    "qi = QuantumInstance(sim_device,\n",
    "                    coupling_map=coupling_map,\n",
    "                    measurement_error_mitigation_cls=CompleteMeasFitter)\n",
    "# pylint: disable=undefined-loop-variable\n",
    "for dist in distances:\n",
    "    (qubit_op, num_particles, num_spin_orbitals,\n",
    "                             problem, converter) = get_qubit_op_h2(dist)\n",
    "    result = exact_solver(problem,converter)\n",
    "    exact_energies.append(result.total_energies[0].real)\n",
    "    optimizer = SPSA(maxiter=20)\n",
    "    var_form = EfficientSU2(qubit_op.num_qubits, entanglement=\"linear\")\n",
    "    vqe = VQE(var_form, optimizer=optimizer,quantum_instance=qi)\n",
    "    vqe_calc=vqe.compute_minimum_eigenvalue(qubit_op)\n",
    "    vqe_result=np.real(problem.interpret(vqe_calc).total_energies)\n",
    "    vqe_energies.append(vqe_result)\n",
    "    print(f\"Interatomic Distance: {np.round(dist, 2)}\",\n",
    "          f\"VQE Result: {vqe_result[0]:.5f}\",\n",
    "          f\"Exact Energy: {exact_energies[-1]:.5f}\")\n",
    "\n",
    "print(\"All energies have been calculated\")\n",
    "\n",
    "# Save the data\n",
    "with open(\"noise_simulation_h2.pkl\", \"wb\") as f:\n",
    "    pickle.dump(vqe_energies, f)"
   ]
  },
  {
   "cell_type": "code",
   "execution_count": 8,
   "metadata": {},
   "outputs": [
    {
     "data": {
      "image/png": "[encoded data removed]",
      "text/plain": [
       "<Figure size 640x480 with 1 Axes>"
      ]
     },
     "metadata": {},
     "output_type": "display_data"
    }
   ],
   "source": [
    "plt.plot(distances, exact_energies, label=\"Exact Energy\")\n",
    "plt.plot(distances, vqe_energies, label=\"VQE Energy\")\n",
    "plt.xlabel('Atomic distance (Angstrom)')\n",
    "plt.ylabel('Energy')\n",
    "plt.legend()\n",
    "plt.show()"
   ]
  },
  {
   "cell_type": "code",
   "execution_count": 9,
   "metadata": {},
   "outputs": [
    {
     "data": {
      "text/plain": [
       "2"
      ]
     },
     "execution_count": 9,
     "metadata": {},
     "output_type": "execute_result"
    }
   ],
   "source": [
    "qubit_op.num_qubits"
   ]
  }
 ],
 "metadata": {
  "kernelspec": {
   "display_name": ".env",
   "language": "python",
   "name": "python3"
  },
  "language_info": {
   "codemirror_mode": {
    "name": "ipython",
    "version": 3
   },
   "file_extension": ".py",
   "mimetype": "text/x-python",
   "name": "python",
   "nbconvert_exporter": "python",
   "pygments_lexer": "ipython3",
   "version": "3.10.6"
  },
  "orig_nbformat": 4,
  "vscode": {
   "interpreter": {
    "hash": "11b7365f03cc03591d52945bc07b34c463ef05632e669958508f22fa266a1965"
   }
  }
 },
 "nbformat": 4,
 "nbformat_minor": 2
}
