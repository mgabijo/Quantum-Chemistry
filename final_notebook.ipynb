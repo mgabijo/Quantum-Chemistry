{
 "cells": [
  {
   "cell_type": "code",
   "execution_count": 1,
   "metadata": {},
   "outputs": [],
   "source": [
    "# Imports\n",
    "from qiskit.algorithms import VQE\n",
    "from qiskit_nature.algorithms import GroundStateEigensolver, NumPyMinimumEigensolverFactory\n",
    "from qiskit_nature.drivers import Molecule, UnitsType\n",
    "from qiskit_nature.drivers.second_quantization import PySCFDriver, ElectronicStructureMoleculeDriver, ElectronicStructureDriverType\n",
    "from qiskit_nature.transformers.second_quantization.electronic import FreezeCoreTransformer\n",
    "from qiskit_nature.problems.second_quantization import ElectronicStructureProblem\n",
    "from qiskit_nature.converters.second_quantization import QubitConverter\n",
    "from qiskit_nature.mappers.second_quantization import ParityMapper\n",
    "from qiskit_nature.circuit.library import UCCSD, HartreeFock\n",
    "from qiskit.circuit.library import EfficientSU2\n",
    "from qiskit.algorithms.optimizers import COBYLA, SPSA, SLSQP\n",
    "from qiskit.opflow import TwoQubitReduction\n",
    "from qiskit import BasicAer, Aer\n",
    "from qiskit.utils import QuantumInstance\n",
    "from qiskit.utils.mitigation import CompleteMeasFitter\n",
    "from qiskit.providers.aer.noise import NoiseModel\n",
    "from qiskit import Aer, IBMQ\n",
    "from qiskit.providers.aer import AerSimulator\n",
    "from qiskit.tools.visualization import plot_histogram, plot_circuit_layout, plot_gate_map\n",
    "\n",
    "import matplotlib.pyplot as plt\n",
    "import numpy as np\n",
    "import pickle"
   ]
  },
  {
   "cell_type": "code",
   "execution_count": 2,
   "metadata": {},
   "outputs": [],
   "source": [
    "# Load IBMQ account\n",
    "try:\n",
    "    IBMQ.load_account()\n",
    "except:\n",
    "    token = input(\"Please enter your IBMQ token: \")\n",
    "    IBMQ.save_account(token)\n",
    "\n",
    "# Load provider\n",
    "provider = IBMQ.get_provider(hub='ibm-q-research-2', group='uminho-1', project='main')"
   ]
  },
  {
   "attachments": {},
   "cell_type": "markdown",
   "metadata": {},
   "source": [
    "# Quantum Chemistry\n",
    "## Finding the minimum energy of molecules\n",
    "---\n",
    "Class of Quantum Computation of University of Minho (2022/2023)\n",
    "\n",
    "\n",
    "#### Authors:\n",
    "- Maria Gabriela Jordão Oliveira, pg50599\n",
    "- Miguel Caçador Peixoto, pg50657"
   ]
  },
  {
   "attachments": {},
   "cell_type": "markdown",
   "metadata": {},
   "source": [
    "## Define diferent backends & devices"
   ]
  },
  {
   "cell_type": "code",
   "execution_count": 3,
   "metadata": {},
   "outputs": [
    {
     "name": "stderr",
     "output_type": "stream",
     "text": [
      "/home/mcpeixoto/Desktop/Quantum-Chemistry/.env/lib/python3.10/site-packages/qiskit/providers/aer/noise/device/models.py:264: UserWarning: Device model returned an invalid T_2 relaxation time greater than the theoretical maximum value 2 * T_1 (186064.81242819485 > 2 * 89549.87196202418). Truncating to maximum value.\n",
      "  warn(\"Device model returned an invalid T_2 relaxation time greater than\"\n",
      "/home/mcpeixoto/Desktop/Quantum-Chemistry/.env/lib/python3.10/site-packages/qiskit/providers/aer/noise/device/models.py:264: UserWarning: Device model returned an invalid T_2 relaxation time greater than the theoretical maximum value 2 * T_1 (186064.81242819485 > 2 * 89549.87196202418). Truncating to maximum value.\n",
      "  warn(\"Device model returned an invalid T_2 relaxation time greater than\"\n",
      "/home/mcpeixoto/Desktop/Quantum-Chemistry/.env/lib/python3.10/site-packages/qiskit/providers/aer/noise/device/models.py:264: UserWarning: Device model returned an invalid T_2 relaxation time greater than the theoretical maximum value 2 * T_1 (186064.81242819485 > 2 * 89549.87196202418). Truncating to maximum value.\n",
      "  warn(\"Device model returned an invalid T_2 relaxation time greater than\"\n",
      "/home/mcpeixoto/Desktop/Quantum-Chemistry/.env/lib/python3.10/site-packages/qiskit/providers/aer/noise/device/models.py:264: UserWarning: Device model returned an invalid T_2 relaxation time greater than the theoretical maximum value 2 * T_1 (186064.81242819485 > 2 * 89549.87196202418). Truncating to maximum value.\n",
      "  warn(\"Device model returned an invalid T_2 relaxation time greater than\"\n",
      "/home/mcpeixoto/Desktop/Quantum-Chemistry/.env/lib/python3.10/site-packages/qiskit/providers/aer/noise/device/models.py:264: UserWarning: Device model returned an invalid T_2 relaxation time greater than the theoretical maximum value 2 * T_1 (186064.81242819485 > 2 * 89549.87196202418). Truncating to maximum value.\n",
      "  warn(\"Device model returned an invalid T_2 relaxation time greater than\"\n",
      "/home/mcpeixoto/Desktop/Quantum-Chemistry/.env/lib/python3.10/site-packages/qiskit/providers/aer/noise/device/models.py:264: UserWarning: Device model returned an invalid T_2 relaxation time greater than the theoretical maximum value 2 * T_1 (186064.81242819485 > 2 * 89549.87196202418). Truncating to maximum value.\n",
      "  warn(\"Device model returned an invalid T_2 relaxation time greater than\"\n",
      "/home/mcpeixoto/Desktop/Quantum-Chemistry/.env/lib/python3.10/site-packages/qiskit/providers/aer/noise/device/models.py:264: UserWarning: Device model returned an invalid T_2 relaxation time greater than the theoretical maximum value 2 * T_1 (186064.81242819485 > 2 * 89549.87196202418). Truncating to maximum value.\n",
      "  warn(\"Device model returned an invalid T_2 relaxation time greater than\"\n",
      "/home/mcpeixoto/Desktop/Quantum-Chemistry/.env/lib/python3.10/site-packages/qiskit/providers/aer/noise/device/models.py:264: UserWarning: Device model returned an invalid T_2 relaxation time greater than the theoretical maximum value 2 * T_1 (186064.81242819485 > 2 * 89549.87196202418). Truncating to maximum value.\n",
      "  warn(\"Device model returned an invalid T_2 relaxation time greater than\"\n",
      "/home/mcpeixoto/Desktop/Quantum-Chemistry/.env/lib/python3.10/site-packages/qiskit/providers/aer/noise/device/models.py:264: UserWarning: Device model returned an invalid T_2 relaxation time greater than the theoretical maximum value 2 * T_1 (0.00018606481242819484 > 2 * 8.954987196202417e-05). Truncating to maximum value.\n",
      "  warn(\"Device model returned an invalid T_2 relaxation time greater than\"\n"
     ]
    }
   ],
   "source": [
    "# Choose the \"perfect\" simulator\n",
    "statevector_simulator = Aer.get_backend(\"statevector_simulator\")\n",
    "\n",
    "# Choose the real device\n",
    "real_device = provider.get_backend('ibm_perth')\n",
    "\n",
    "# Create a simulator from the real device\n",
    "simulator_device = AerSimulator.from_backend(real_device)"
   ]
  },
  {
   "cell_type": "code",
   "execution_count": 4,
   "metadata": {},
   "outputs": [],
   "source": [
    "# Exact solver for comparison\n",
    "def exact_solver(problem, converter):\n",
    "    '''\n",
    "    This function finds the exact solution for a given problem and converter.\n",
    "    This is a pure classical solver.\n",
    "    '''\n",
    "    solver = NumPyMinimumEigensolverFactory()\n",
    "    calc = GroundStateEigensolver(converter, solver)\n",
    "    result = calc.solve(problem)\n",
    "    return result"
   ]
  },
  {
   "attachments": {},
   "cell_type": "markdown",
   "metadata": {},
   "source": [
    "## General Functions (Prepwork)"
   ]
  },
  {
   "cell_type": "code",
   "execution_count": 5,
   "metadata": {},
   "outputs": [],
   "source": [
    "def get_generic_qubit_op(molecule_geometry, multiplicity, charge, basis = None, remove_orbitals=None):\n",
    "    '''\n",
    "    Args:\n",
    "    molecule_geometry : Molecule geometry. List of lists. First element of each list is the atom name, second element is the coordinates.\n",
    "    multiplicity : Multiplicity. 2*spin + 1\n",
    "    charge : Charge of the molecule\n",
    "    basis : Basis set. Default is sto3g\n",
    "    remove_orbitals : List of orbitals to remove. Default is None. Please unsure that the orbitals are not occupied.\n",
    "    \n",
    "    Returns:\n",
    "    qubit_op : Qubit operator\n",
    "    num_particles : Number of particles\n",
    "    num_spin_orbitals : Number of spin orbitals\n",
    "    problem : Problem. Electronic structure problem with driver and transformers. Freeze core transformation is used.\n",
    "    converter : Converter. Qubit converter with parity mapper and two qubit reduction.\n",
    "    '''\n",
    "    # Define Molecule\n",
    "    molecule = Molecule(\n",
    "        # Coordinates in Angstrom\n",
    "        geometry= molecule_geometry,\n",
    "        multiplicity= multiplicity,  # = 2*spin + 1\n",
    "        charge= charge,\n",
    "    )\n",
    "\n",
    "    if basis is None:\n",
    "        basis = \"sto3g\"\n",
    "    driver = ElectronicStructureMoleculeDriver(\n",
    "        molecule=molecule,\n",
    "        basis= basis,\n",
    "        driver_type=ElectronicStructureDriverType.PYSCF)\n",
    "\n",
    "    # Get properties\n",
    "    properties = driver.run()\n",
    "    num_particles = (properties\n",
    "                        .get_property(\"ParticleNumber\")\n",
    "                        .num_particles)\n",
    "    num_spin_orbitals = int(properties\n",
    "                            .get_property(\"ParticleNumber\")\n",
    "                            .num_spin_orbitals)\n",
    "\n",
    "    # Define Problem, Use freeze core approximation, remove orbitals.\n",
    "    problem = ElectronicStructureProblem(\n",
    "        driver,\n",
    "        [FreezeCoreTransformer(freeze_core=True, remove_orbitals=remove_orbitals)])\n",
    "\n",
    "    second_q_ops = problem.second_q_ops()  # Get 2nd Quant OP\n",
    "    num_spin_orbitals = problem.num_spin_orbitals\n",
    "    num_particles = problem.num_particles\n",
    "\n",
    "    # Get Hamiltonian\n",
    "    mapper = ParityMapper()  # Set Mapper\n",
    "    hamiltonian = second_q_ops[0]  # Set Hamiltonian\n",
    "    # Do two qubit reduction\n",
    "    converter = QubitConverter(mapper,two_qubit_reduction=True )\n",
    "    reducer = TwoQubitReduction(num_particles)\n",
    "    qubit_op = converter.convert(hamiltonian)\n",
    "    qubit_op = reducer.convert(qubit_op)\n",
    "\n",
    "    return qubit_op, num_particles, num_spin_orbitals, problem, converter\n",
    "\n",
    "\n",
    "def run_distances(distances, molecule_geometry, multiplicity, charge, remove_orbitals, optimizer, qi, quantum_instance, var_form):\n",
    "    \"\"\"\n",
    "    Args:\n",
    "    distances : List of distances\n",
    "    molecule_geometry : Molecule geometry. List of lists. First element of each list is the atom name, second element is the coordinates.\n",
    "    multiplicity : Multiplicity. 2*spin + 1\n",
    "    charge : Charge of the molecule\n",
    "    remove_orbitals : List of orbitals to remove. Default is None. Please unsure that the orbitals are not occupied.\n",
    "    optimizer : Optimizer\n",
    "    qi : Quantum Instance\n",
    "\n",
    "    Returns:\n",
    "    exact_energies : List of exact energies\n",
    "    vqe_energies : List of vqe energies\n",
    "    \"\"\"\n",
    "\n",
    "    exact_energies = []\n",
    "    vqe_energies = []\n",
    "    for dist in distances:\n",
    "        (qubit_op, num_particles, num_spin_orbitals, problem, converter) = get_generic_qubit_op(molecule_geometry(dist), multiplicity, charge, remove_orbitals=remove_orbitals)\n",
    "        \n",
    "        ######################\n",
    "        ### Exact Solution ###\n",
    "        ######################\n",
    "        result = exact_solver(problem,converter)\n",
    "        exact_energies.append(result.total_energies[0].real)\n",
    "\n",
    "        ######################\n",
    "        ### VQE Solution #####\n",
    "        ######################\n",
    "\n",
    "        # Var Form\n",
    "        if var_form == \"UCCSD\":\n",
    "            init_state = HartreeFock(num_spin_orbitals, num_particles, converter)\n",
    "            var_form = UCCSD(converter, num_particles, num_spin_orbitals, initial_state=init_state)\n",
    "        elif var_form == \"SU2\":\n",
    "            var_form = EfficientSU2(qubit_op.num_qubits, entanglement=\"linear\")\n",
    "\n",
    "        # VQE\n",
    "        vqe = VQE(var_form, optimizer=optimizer, quantum_instance=quantum_instance)\n",
    "        vqe_calc=vqe.compute_minimum_eigenvalue(qubit_op)\n",
    "        vqe_result=np.real(problem.interpret(vqe_calc).total_energies)\n",
    "        vqe_energies.append(vqe_result)\n",
    "        print(f\"Interatomic Distance: {np.round(dist, 2)}\", f\"VQE Result: {vqe_result[0]:.5f}\", f\"Exact Energy: {exact_energies[-1]:.5f}\")\n",
    "\n",
    "    print(\"All energies have been calculated\")\n",
    "    return exact_energies, vqe_energies\n",
    "\n",
    "def plot_energies(distances, exact_energies, vqe_energies, title):\n",
    "    \"\"\"\n",
    "    Args:\n",
    "    distances : List of distances\n",
    "    exact_energies : List of exact energies\n",
    "    vqe_energies : List of vqe energies\n",
    "    title : Title of the plot\n",
    "    \"\"\"\n",
    "    plt.plot(distances, exact_energies, label=\"Exact Energy\")\n",
    "    plt.plot(distances, vqe_energies, label=\"VQE Energy\")\n",
    "    plt.xlabel('Atomic distance (Angstrom)')\n",
    "    plt.ylabel('Energy')\n",
    "    plt.title(title)\n",
    "    plt.legend()\n",
    "    plt.show()\n",
    "    "
   ]
  },
  {
   "attachments": {},
   "cell_type": "markdown",
   "metadata": {},
   "source": [
    "## H2\n",
    "Expected energy: -1.117506  hartree\n",
    "\n",
    "Expected bond length: 0.712 Angstrom"
   ]
  },
  {
   "cell_type": "code",
   "execution_count": null,
   "metadata": {},
   "outputs": [],
   "source": [
    "# Defining fixed parameters\n",
    "molecule_geometry = lambda dist:[\n",
    "            [\"H\", [0.0, 0.0, 0.0]],\n",
    "            [\"H\", [dist, 0.0, 0.0]]\n",
    "        ]\n",
    "multiplicity = 1\n",
    "charge = 0\n",
    "remove_orbitals = []\n",
    "distances = np.arange(0.5, 1.1, 0.2)"
   ]
  },
  {
   "attachments": {},
   "cell_type": "markdown",
   "metadata": {},
   "source": [
    "### Using UCCSD ansatz and SLSQP optimizer"
   ]
  },
  {
   "attachments": {},
   "cell_type": "markdown",
   "metadata": {},
   "source": [
    "#### Perfect device"
   ]
  },
  {
   "cell_type": "code",
   "execution_count": 6,
   "metadata": {},
   "outputs": [
    {
     "name": "stdout",
     "output_type": "stream",
     "text": [
      "Interatomic Distance: 0.5 VQE Result: -1.05516 Exact Energy: -1.05516\n",
      "Interatomic Distance: 0.7 VQE Result: -1.13619 Exact Energy: -1.13619\n",
      "Interatomic Distance: 0.9 VQE Result: -1.12056 Exact Energy: -1.12056\n",
      "Interatomic Distance: 1.1 VQE Result: -1.07919 Exact Energy: -1.07919\n",
      "All energies have been calculated\n"
     ]
    },
    {
     "data": {
      "image/png": "[encoded data removed]",
      "text/plain": [
       "<Figure size 640x480 with 1 Axes>"
      ]
     },
     "metadata": {},
     "output_type": "display_data"
    }
   ],
   "source": [
    "optimizer = SLSQP(maxiter=20)\n",
    "var_form = \"UCCSD\"\n",
    "quantum_instance = statevector_simulator\n",
    "\n",
    "\n",
    "# Run\n",
    "exact_energies, vqe_energies = run_distances(distances, molecule_geometry, multiplicity, charge, remove_orbitals, optimizer, var_form, quantum_instance, var_form)\n",
    "plot_energies(distances, exact_energies, vqe_energies, \"H2\")"
   ]
  },
  {
   "attachments": {},
   "cell_type": "markdown",
   "metadata": {},
   "source": [
    "#### Noisy simulator"
   ]
  },
  {
   "cell_type": "code",
   "execution_count": 7,
   "metadata": {},
   "outputs": [
    {
     "name": "stdout",
     "output_type": "stream",
     "text": [
      "Interatomic Distance: 0.5 VQE Result: 0.01071 Exact Energy: -1.05516\n",
      "Interatomic Distance: 0.7 VQE Result: -0.96340 Exact Energy: -1.13619\n"
     ]
    }
   ],
   "source": [
    "optimizer = SLSQP(maxiter=20)\n",
    "var_form = \"UCCSD\"\n",
    "quantum_instance = simulator_device\n",
    "\n",
    "# Run\n",
    "exact_energies, vqe_energies = run_distances(distances, molecule_geometry, multiplicity, charge, remove_orbitals, optimizer, var_form, quantum_instance, var_form)\n",
    "plot_energies(distances, exact_energies, vqe_energies, \"H2\")"
   ]
  },
  {
   "attachments": {},
   "cell_type": "markdown",
   "metadata": {},
   "source": [
    "### Using SU2 ansatz and SPSA optimizer"
   ]
  },
  {
   "attachments": {},
   "cell_type": "markdown",
   "metadata": {},
   "source": [
    "#### Perfect device"
   ]
  },
  {
   "cell_type": "code",
   "execution_count": null,
   "metadata": {},
   "outputs": [],
   "source": [
    "optimizer = SPSA(maxiter=20)\n",
    "var_form = \"SU2\"\n",
    "quantum_instance = statevector_simulator\n",
    "\n",
    "# Run\n",
    "exact_energies, vqe_energies = run_distances(distances, molecule_geometry, multiplicity, charge, remove_orbitals, optimizer, var_form, quantum_instance, var_form)\n",
    "plot_energies(distances, exact_energies, vqe_energies, \"H2\")"
   ]
  },
  {
   "attachments": {},
   "cell_type": "markdown",
   "metadata": {},
   "source": [
    "#### Noisy simulator"
   ]
  },
  {
   "cell_type": "code",
   "execution_count": null,
   "metadata": {},
   "outputs": [],
   "source": [
    "optimizer = SPSA(maxiter=20)\n",
    "var_form = \"SU2\"\n",
    "quantum_instance = simulator_device\n",
    "\n",
    "# Run\n",
    "exact_energies, vqe_energies = run_distances(distances, molecule_geometry, multiplicity, charge, remove_orbitals, optimizer, var_form, quantum_instance, var_form)\n",
    "plot_energies(distances, exact_energies, vqe_energies, \"H2\")"
   ]
  }
 ],
 "metadata": {
  "kernelspec": {
   "display_name": ".env",
   "language": "python",
   "name": "python3"
  },
  "language_info": {
   "codemirror_mode": {
    "name": "ipython",
    "version": 3
   },
   "file_extension": ".py",
   "mimetype": "text/x-python",
   "name": "python",
   "nbconvert_exporter": "python",
   "pygments_lexer": "ipython3",
   "version": "3.10.6"
  },
  "orig_nbformat": 4,
  "vscode": {
   "interpreter": {
    "hash": "11b7365f03cc03591d52945bc07b34c463ef05632e669958508f22fa266a1965"
   }
  }
 },
 "nbformat": 4,
 "nbformat_minor": 2
}
